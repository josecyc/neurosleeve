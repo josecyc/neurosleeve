{
 "cells": [
  {
   "cell_type": "code",
   "execution_count": 12,
   "metadata": {},
   "outputs": [],
   "source": [
    "import pandas as pd\n",
    "import os\n",
    "from scipy import signal\n",
    "\n",
    "import matplotlib.pyplot as plt\n",
    "import numpy as np\n",
    "import skimage.io\n",
    "import tensorflow as tf\n",
    "from tensorflow.keras.layers import Input, Dense, Flatten, Dropout, Conv2D, BatchNormalization, MaxPooling2D # tf2.0 MaxPool2D\n",
    "from tensorflow.keras.models import Model\n",
    "from tensorflow.python.keras.callbacks import TensorBoard\n",
    "from time import time\n",
    "import random\n",
    "\n",
    "#%%matplotlib inline"
   ]
  },
  {
   "cell_type": "raw",
   "metadata": {},
   "source": [
    "num_samples = 10 seconds * 4 samples/per_second * num_of_txt files\n",
    "num_samples = aprox(1100)"
   ]
  },
  {
   "cell_type": "markdown",
   "metadata": {},
   "source": [
    "## Reading files and re-exploring new-shaped spectrograms "
   ]
  },
  {
   "cell_type": "code",
   "execution_count": 13,
   "metadata": {},
   "outputs": [
    {
     "name": "stdout",
     "output_type": "stream",
     "text": [
      "['alpha', 'right', 'stop', 'omega', 'go', 'left', 'neutral']\n",
      "/nfs/2018/j/jcruz-y-/Desktop/ml_piscine/neurosleeve/data/osc_data/alpha\n",
      "folder: alpha\n",
      "file: jose_1_alpha_7_26.csv\n"
     ]
    }
   ],
   "source": [
    "cwd = os.getcwd()\n",
    "filepath = cwd + '/data/osc_data/'\n",
    "par_folders = next(os.walk(filepath))[1]\n",
    "folder = par_folders[0]\n",
    "ch_folder_path = cwd + '/data/osc_data/' + folder\n",
    "files = next(os.walk(ch_folder_path))[2]\n",
    "file = files[0]\n",
    "file_df = pd.read_csv(ch_folder_path + '/' + file, sep=',')\n",
    "print(par_folders)\n",
    "print(ch_folder_path)\n",
    "print('folder:', folder)\n",
    "print('file:', file)"
   ]
  },
  {
   "cell_type": "code",
   "execution_count": 14,
   "metadata": {},
   "outputs": [
    {
     "data": {
      "text/html": [
       "<div>\n",
       "<style scoped>\n",
       "    .dataframe tbody tr th:only-of-type {\n",
       "        vertical-align: middle;\n",
       "    }\n",
       "\n",
       "    .dataframe tbody tr th {\n",
       "        vertical-align: top;\n",
       "    }\n",
       "\n",
       "    .dataframe thead th {\n",
       "        text-align: right;\n",
       "    }\n",
       "</style>\n",
       "<table border=\"1\" class=\"dataframe\">\n",
       "  <thead>\n",
       "    <tr style=\"text-align: right;\">\n",
       "      <th></th>\n",
       "      <th>ch1</th>\n",
       "      <th>ch2</th>\n",
       "      <th>ch3</th>\n",
       "      <th>ch4</th>\n",
       "    </tr>\n",
       "  </thead>\n",
       "  <tbody>\n",
       "    <tr>\n",
       "      <th>0</th>\n",
       "      <td>-33.99</td>\n",
       "      <td>-541.97</td>\n",
       "      <td>-71.61</td>\n",
       "      <td>60.61</td>\n",
       "    </tr>\n",
       "    <tr>\n",
       "      <th>1</th>\n",
       "      <td>-22.28</td>\n",
       "      <td>-473.96</td>\n",
       "      <td>-125.56</td>\n",
       "      <td>28.82</td>\n",
       "    </tr>\n",
       "    <tr>\n",
       "      <th>2</th>\n",
       "      <td>5.73</td>\n",
       "      <td>-338.79</td>\n",
       "      <td>-130.38</td>\n",
       "      <td>-5.43</td>\n",
       "    </tr>\n",
       "    <tr>\n",
       "      <th>3</th>\n",
       "      <td>-25.76</td>\n",
       "      <td>-507.57</td>\n",
       "      <td>-119.21</td>\n",
       "      <td>20.62</td>\n",
       "    </tr>\n",
       "    <tr>\n",
       "      <th>4</th>\n",
       "      <td>7.00</td>\n",
       "      <td>-432.08</td>\n",
       "      <td>-115.92</td>\n",
       "      <td>14.51</td>\n",
       "    </tr>\n",
       "  </tbody>\n",
       "</table>\n",
       "</div>"
      ],
      "text/plain": [
       "     ch1     ch2     ch3    ch4\n",
       "0 -33.99 -541.97  -71.61  60.61\n",
       "1 -22.28 -473.96 -125.56  28.82\n",
       "2   5.73 -338.79 -130.38  -5.43\n",
       "3 -25.76 -507.57 -119.21  20.62\n",
       "4   7.00 -432.08 -115.92  14.51"
      ]
     },
     "execution_count": 14,
     "metadata": {},
     "output_type": "execute_result"
    }
   ],
   "source": [
    "file_df.head()"
   ]
  },
  {
   "cell_type": "markdown",
   "metadata": {},
   "source": [
    "## Alpha"
   ]
  },
  {
   "cell_type": "code",
   "execution_count": 21,
   "metadata": {},
   "outputs": [
    {
     "name": "stdout",
     "output_type": "stream",
     "text": [
      "folder alpha\n",
      "file jose_1_alpha_5_35.csv\n",
      "spec_shape (6, 21)\n",
      "frequencies_shape (6,)\n",
      "times_shape (21,)\n"
     ]
    },
    {
     "data": {
      "image/png": "[encoded data removed]",
      "text/plain": [
       "<Figure size 1008x576 with 1 Axes>"
      ]
     },
     "metadata": {
      "needs_background": "light"
     },
     "output_type": "display_data"
    },
    {
     "data": {
      "image/png": "[encoded data removed]",
      "text/plain": [
       "<Figure size 1008x576 with 1 Axes>"
      ]
     },
     "metadata": {
      "needs_background": "light"
     },
     "output_type": "display_data"
    },
    {
     "data": {
      "image/png": "[encoded data removed]",
      "text/plain": [
       "<Figure size 1008x576 with 1 Axes>"
      ]
     },
     "metadata": {
      "needs_background": "light"
     },
     "output_type": "display_data"
    },
    {
     "data": {
      "image/png": "[encoded data removed]",
      "text/plain": [
       "<Figure size 1008x576 with 1 Axes>"
      ]
     },
     "metadata": {
      "needs_background": "light"
     },
     "output_type": "display_data"
    }
   ],
   "source": [
    "folder = par_folders[0]\n",
    "print('folder', folder)\n",
    "ch_folder_path = cwd + '/data/osc_data/' + folder\n",
    "files = next(os.walk(ch_folder_path))[2]\n",
    "file = random.choice(files)\n",
    "print('file', file)\n",
    "file_on = pd.read_csv(ch_folder_path + '/' + file, sep=',')\n",
    "nperseg=10\n",
    "#increasing nperseg increases frequency resolution and decreases time res\n",
    "noverlap=8\n",
    "#increasing time resolution requires increasing overlap, \n",
    "frequencies, times, spec = signal.spectrogram(x=file_on['ch4'], fs=200, nperseg=nperseg, noverlap=noverlap, window='hann')\n",
    "print('spec_shape', spec.shape)\n",
    "print('frequencies_shape', frequencies.shape)\n",
    "print('times_shape', times.shape)\n",
    "fig = plt.figure(figsize=(14, 8))\n",
    "ax1 = fig.add_subplot(211)\n",
    "ax1 = plt.pcolormesh(times, frequencies, spec)\n",
    "ax1 = plt.show\n",
    "frequencies, times, spec = signal.spectrogram(x=file_on['ch2'], fs=200, nperseg=nperseg, noverlap=noverlap, window='hann')\n",
    "log_spec = np.log(spec)\n",
    "fig = plt.figure(figsize=(14, 8))\n",
    "ax1 = fig.add_subplot(211)\n",
    "ax1 = plt.pcolormesh(times, frequencies, spec)\n",
    "ax1 = plt.show\n",
    "frequencies, times, spec = signal.spectrogram(x=file_on['ch3'], fs=200, nperseg=nperseg, noverlap=noverlap, window='hann')\n",
    "log_spec = np.log(spec)\n",
    "fig = plt.figure(figsize=(14, 8))\n",
    "ax1 = fig.add_subplot(211)\n",
    "ax1 = plt.pcolormesh(times, frequencies, spec)\n",
    "ax1 = plt.show\n",
    "frequencies, times, spec = signal.spectrogram(x=file_on['ch4'], fs=200, nperseg=nperseg, noverlap=noverlap, window='hann')\n",
    "log_spec = np.log(spec)\n",
    "fig = plt.figure(figsize=(14, 8))\n",
    "ax1 = fig.add_subplot(211)\n",
    "ax1 = plt.pcolormesh(times, frequencies, spec)\n",
    "ax1 = plt.show"
   ]
  },
  {
   "cell_type": "markdown",
   "metadata": {},
   "source": [
    "## Random gesture"
   ]
  },
  {
   "cell_type": "code",
   "execution_count": 22,
   "metadata": {},
   "outputs": [
    {
     "name": "stdout",
     "output_type": "stream",
     "text": [
      "gesture: left\n",
      "file: jose_2_left_3_34.csv\n",
      "spec_shape: (6, 21)\n",
      "frequencies_shape: (6,)\n",
      "times_shape: (21,)\n"
     ]
    },
    {
     "data": {
      "image/png": "[encoded data removed]",
      "text/plain": [
       "<Figure size 1008x576 with 1 Axes>"
      ]
     },
     "metadata": {
      "needs_background": "light"
     },
     "output_type": "display_data"
    },
    {
     "data": {
      "image/png": "[encoded data removed]",
      "text/plain": [
       "<Figure size 1008x576 with 1 Axes>"
      ]
     },
     "metadata": {
      "needs_background": "light"
     },
     "output_type": "display_data"
    },
    {
     "data": {
      "image/png": "[encoded data removed]",
      "text/plain": [
       "<Figure size 1008x576 with 1 Axes>"
      ]
     },
     "metadata": {
      "needs_background": "light"
     },
     "output_type": "display_data"
    },
    {
     "data": {
      "image/png": "[encoded data removed]",
      "text/plain": [
       "<Figure size 1008x576 with 1 Axes>"
      ]
     },
     "metadata": {
      "needs_background": "light"
     },
     "output_type": "display_data"
    }
   ],
   "source": [
    "folder = random.choice(par_folders)\n",
    "print('gesture:', folder)\n",
    "ch_folder_path = cwd + '/data/osc_data/' + folder\n",
    "files = next(os.walk(ch_folder_path))[2]\n",
    "file = random.choice(files)\n",
    "print('file:', file)\n",
    "file_on = pd.read_csv(ch_folder_path + '/' + file, sep=',')\n",
    "nperseg=10\n",
    "#increasing nperseg increases frequency resolution and decreases time res\n",
    "noverlap=8\n",
    "#increasing time resolution requires increasing overlap, \n",
    "frequencies, times, spec = signal.spectrogram(x=file_on['ch4'], fs=200, nperseg=nperseg, noverlap=noverlap, window='hann')\n",
    "print('spec_shape:', spec.shape) #'spec', spec)\n",
    "print('frequencies_shape:', frequencies.shape)\n",
    "print('times_shape:', times.shape)\n",
    "fig = plt.figure(figsize=(14, 8))\n",
    "ax1 = fig.add_subplot(211)\n",
    "ax1 = plt.pcolormesh(times, frequencies, spec)\n",
    "ax1 = plt.show\n",
    "frequencies, times, spec = signal.spectrogram(x=file_on['ch2'], fs=200, nperseg=nperseg, noverlap=noverlap, window='hann')\n",
    "log_spec = np.log(spec)\n",
    "fig = plt.figure(figsize=(14, 8))\n",
    "ax1 = fig.add_subplot(211)\n",
    "ax1 = plt.pcolormesh(times, frequencies, spec)\n",
    "ax1 = plt.show\n",
    "frequencies, times, spec = signal.spectrogram(x=file_on['ch3'], fs=200, nperseg=nperseg, noverlap=noverlap, window='hann')\n",
    "log_spec = np.log(spec)\n",
    "fig = plt.figure(figsize=(14, 8))\n",
    "ax1 = fig.add_subplot(211)\n",
    "ax1 = plt.pcolormesh(times, frequencies, spec)\n",
    "ax1 = plt.show\n",
    "frequencies, times, spec = signal.spectrogram(x=file_on['ch4'], fs=200, nperseg=nperseg, noverlap=noverlap, window='hann')\n",
    "log_spec = np.log(spec)\n",
    "fig = plt.figure(figsize=(14, 8))\n",
    "ax1 = fig.add_subplot(211)\n",
    "ax1 = plt.pcolormesh(times, frequencies, spec)\n",
    "ax1 = plt.show"
   ]
  },
  {
   "cell_type": "markdown",
   "metadata": {},
   "source": [
    "# Model"
   ]
  },
  {
   "cell_type": "code",
   "execution_count": 26,
   "metadata": {},
   "outputs": [],
   "source": [
    "path = cwd + '/data/osc_data'"
   ]
  },
  {
   "cell_type": "code",
   "execution_count": 28,
   "metadata": {},
   "outputs": [
    {
     "data": {
      "text/plain": [
       "['alpha', 'right', 'stop', 'omega', 'go', 'left', 'neutral']"
      ]
     },
     "execution_count": 28,
     "metadata": {},
     "output_type": "execute_result"
    }
   ],
   "source": [
    "lbl_folders = next(os.walk(path))[1]\n",
    "lbl_folders"
   ]
  },
  {
   "cell_type": "code",
   "execution_count": 29,
   "metadata": {},
   "outputs": [],
   "source": [
    "shape = (6, 21, 4)\n",
    "flat_dim = shape[0]*shape[1]*shape[2]\n",
    "nperseg = 10\n",
    "noverlap = 8\n",
    "reshape = (-1, shape[0], shape[1], shape[2])"
   ]
  },
  {
   "cell_type": "raw",
   "metadata": {},
   "source": [
    "filepath = os.path.join(cwd, 'data/cleaned', folder)\n",
    "print(filepath)\n",
    "files = next(os.walk(filepath))"
   ]
  },
  {
   "cell_type": "markdown",
   "metadata": {},
   "source": [
    "## Read data to create dataframe with spectograms"
   ]
  },
  {
   "cell_type": "code",
   "execution_count": 31,
   "metadata": {},
   "outputs": [
    {
     "name": "stdout",
     "output_type": "stream",
     "text": [
      "alpha (1160, 6, 21, 4)\n",
      "right (1080, 6, 21, 4)\n",
      "stop (1160, 6, 21, 4)\n",
      "omega (1160, 6, 21, 4)\n",
      "go (1120, 6, 21, 4)\n",
      "left (1120, 6, 21, 4)\n",
      "neutral (1040, 6, 21, 4)\n"
     ]
    }
   ],
   "source": [
    "###\n",
    "cwd = os.getcwd()\n",
    "path = cwd + '/data/osc_data'\n",
    "lbl_folders = next(os.walk(path))[1]\n",
    "folders_path = 'data/osc_data'\n",
    "channels = ['ch1', 'ch2', 'ch3', 'ch4']\n",
    "###\n",
    "shape = (6, 21, 4)\n",
    "flat_dim = shape[0]*shape[1]*shape[2]\n",
    "nperseg = 10\n",
    "noverlap = 8\n",
    "reshape = (-1, shape[0], shape[1], shape[2])\n",
    "j = 0\n",
    "i = 0\n",
    "dir_num = 0\n",
    "df_train_g = pd.DataFrame()\n",
    "for folder in lbl_folder_clean:\n",
    "    filepath = os.path.join(cwd, folders_path, folder)\n",
    "    files = next(os.walk(filepath))[2]\n",
    "    num_examples = len(files)\n",
    "    x_shape = (num_examples, 6, 21, 4)\n",
    "    x1_train = np.zeros(x_shape)\n",
    "    j = 0\n",
    "    for filename in files:\n",
    "        file = pd.read_csv(os.path.join(cwd, folders_path, folder, filename), sep=',')\n",
    "        img = np.zeros(shape)\n",
    "        k = 0\n",
    "        for i in range(4):\n",
    "            frequencies, times, spec = signal.spectrogram(x=file[channels[i]], fs=200,\n",
    "                                                          nperseg=nperseg, noverlap=noverlap,\n",
    "                                                          window='hann')\n",
    "            log_spec = np.log(spec)\n",
    "            img[:,:,i] = spec\n",
    "            i = i + 1\n",
    "        x1_train[j,:,:,:] = img\n",
    "        j = j + 1\n",
    "    print(folder, x1_train.shape)\n",
    "    flat = np.reshape(x1_train, (num_examples, flat_dim))\n",
    "    df_train1 = pd.DataFrame(data=flat)\n",
    "    vals = np.array([dir_num] * num_examples)\n",
    "    dir_num = dir_num + 1\n",
    "    df_train1['label'] = vals\n",
    "    df_train_g = df_train_g.append(df_train1, ignore_index=True)"
   ]
  },
  {
   "cell_type": "code",
   "execution_count": 32,
   "metadata": {},
   "outputs": [
    {
     "data": {
      "text/html": [
       "<div>\n",
       "<style scoped>\n",
       "    .dataframe tbody tr th:only-of-type {\n",
       "        vertical-align: middle;\n",
       "    }\n",
       "\n",
       "    .dataframe tbody tr th {\n",
       "        vertical-align: top;\n",
       "    }\n",
       "\n",
       "    .dataframe thead th {\n",
       "        text-align: right;\n",
       "    }\n",
       "</style>\n",
       "<table border=\"1\" class=\"dataframe\">\n",
       "  <thead>\n",
       "    <tr style=\"text-align: right;\">\n",
       "      <th></th>\n",
       "      <th>0</th>\n",
       "      <th>1</th>\n",
       "      <th>2</th>\n",
       "      <th>3</th>\n",
       "      <th>4</th>\n",
       "      <th>5</th>\n",
       "      <th>6</th>\n",
       "      <th>7</th>\n",
       "      <th>8</th>\n",
       "      <th>9</th>\n",
       "      <th>...</th>\n",
       "      <th>495</th>\n",
       "      <th>496</th>\n",
       "      <th>497</th>\n",
       "      <th>498</th>\n",
       "      <th>499</th>\n",
       "      <th>500</th>\n",
       "      <th>501</th>\n",
       "      <th>502</th>\n",
       "      <th>503</th>\n",
       "      <th>label</th>\n",
       "    </tr>\n",
       "  </thead>\n",
       "  <tbody>\n",
       "    <tr>\n",
       "      <th>0</th>\n",
       "      <td>0.269763</td>\n",
       "      <td>0.000007</td>\n",
       "      <td>2.690894</td>\n",
       "      <td>0.285193</td>\n",
       "      <td>4.696668</td>\n",
       "      <td>26.142539</td>\n",
       "      <td>5.916528</td>\n",
       "      <td>5.797650</td>\n",
       "      <td>1.394728</td>\n",
       "      <td>1.576310</td>\n",
       "      <td>...</td>\n",
       "      <td>3.841037</td>\n",
       "      <td>3.091718</td>\n",
       "      <td>16.319097</td>\n",
       "      <td>1.561007</td>\n",
       "      <td>2.145334</td>\n",
       "      <td>1.286712</td>\n",
       "      <td>6.197624</td>\n",
       "      <td>0.272434</td>\n",
       "      <td>0.917669</td>\n",
       "      <td>0</td>\n",
       "    </tr>\n",
       "    <tr>\n",
       "      <th>1</th>\n",
       "      <td>0.762344</td>\n",
       "      <td>0.009737</td>\n",
       "      <td>0.354214</td>\n",
       "      <td>0.000517</td>\n",
       "      <td>0.203516</td>\n",
       "      <td>0.193552</td>\n",
       "      <td>0.906154</td>\n",
       "      <td>0.016050</td>\n",
       "      <td>1.219763</td>\n",
       "      <td>1.619854</td>\n",
       "      <td>...</td>\n",
       "      <td>0.233409</td>\n",
       "      <td>0.711764</td>\n",
       "      <td>0.001415</td>\n",
       "      <td>5.419373</td>\n",
       "      <td>1.753770</td>\n",
       "      <td>2.752352</td>\n",
       "      <td>12.246400</td>\n",
       "      <td>8.266206</td>\n",
       "      <td>0.920694</td>\n",
       "      <td>0</td>\n",
       "    </tr>\n",
       "    <tr>\n",
       "      <th>2</th>\n",
       "      <td>0.012787</td>\n",
       "      <td>1.610314</td>\n",
       "      <td>0.105238</td>\n",
       "      <td>0.023809</td>\n",
       "      <td>0.747766</td>\n",
       "      <td>0.020359</td>\n",
       "      <td>6.185523</td>\n",
       "      <td>0.869656</td>\n",
       "      <td>0.088764</td>\n",
       "      <td>0.037561</td>\n",
       "      <td>...</td>\n",
       "      <td>0.000238</td>\n",
       "      <td>0.000509</td>\n",
       "      <td>0.956125</td>\n",
       "      <td>1.155039</td>\n",
       "      <td>0.029721</td>\n",
       "      <td>1.450493</td>\n",
       "      <td>0.545698</td>\n",
       "      <td>8.199032</td>\n",
       "      <td>0.078900</td>\n",
       "      <td>0</td>\n",
       "    </tr>\n",
       "    <tr>\n",
       "      <th>3</th>\n",
       "      <td>3.198062</td>\n",
       "      <td>1.395169</td>\n",
       "      <td>3.978304</td>\n",
       "      <td>0.476088</td>\n",
       "      <td>0.032568</td>\n",
       "      <td>0.091444</td>\n",
       "      <td>0.021168</td>\n",
       "      <td>0.076012</td>\n",
       "      <td>0.049189</td>\n",
       "      <td>5.689870</td>\n",
       "      <td>...</td>\n",
       "      <td>0.254437</td>\n",
       "      <td>1.999421</td>\n",
       "      <td>100.944967</td>\n",
       "      <td>0.311347</td>\n",
       "      <td>0.118430</td>\n",
       "      <td>1.928447</td>\n",
       "      <td>118.050244</td>\n",
       "      <td>0.869525</td>\n",
       "      <td>0.702323</td>\n",
       "      <td>0</td>\n",
       "    </tr>\n",
       "    <tr>\n",
       "      <th>4</th>\n",
       "      <td>1.832447</td>\n",
       "      <td>0.254555</td>\n",
       "      <td>0.309685</td>\n",
       "      <td>0.020131</td>\n",
       "      <td>3.494906</td>\n",
       "      <td>7.610915</td>\n",
       "      <td>1.930834</td>\n",
       "      <td>0.832520</td>\n",
       "      <td>0.342319</td>\n",
       "      <td>3.308603</td>\n",
       "      <td>...</td>\n",
       "      <td>0.033883</td>\n",
       "      <td>0.010655</td>\n",
       "      <td>0.000876</td>\n",
       "      <td>3.320260</td>\n",
       "      <td>0.008457</td>\n",
       "      <td>0.002498</td>\n",
       "      <td>0.364157</td>\n",
       "      <td>0.591829</td>\n",
       "      <td>0.008037</td>\n",
       "      <td>0</td>\n",
       "    </tr>\n",
       "  </tbody>\n",
       "</table>\n",
       "<p>5 rows × 505 columns</p>\n",
       "</div>"
      ],
      "text/plain": [
       "          0         1         2         3         4          5         6  \\\n",
       "0  0.269763  0.000007  2.690894  0.285193  4.696668  26.142539  5.916528   \n",
       "1  0.762344  0.009737  0.354214  0.000517  0.203516   0.193552  0.906154   \n",
       "2  0.012787  1.610314  0.105238  0.023809  0.747766   0.020359  6.185523   \n",
       "3  3.198062  1.395169  3.978304  0.476088  0.032568   0.091444  0.021168   \n",
       "4  1.832447  0.254555  0.309685  0.020131  3.494906   7.610915  1.930834   \n",
       "\n",
       "          7         8         9  ...       495       496         497  \\\n",
       "0  5.797650  1.394728  1.576310  ...  3.841037  3.091718   16.319097   \n",
       "1  0.016050  1.219763  1.619854  ...  0.233409  0.711764    0.001415   \n",
       "2  0.869656  0.088764  0.037561  ...  0.000238  0.000509    0.956125   \n",
       "3  0.076012  0.049189  5.689870  ...  0.254437  1.999421  100.944967   \n",
       "4  0.832520  0.342319  3.308603  ...  0.033883  0.010655    0.000876   \n",
       "\n",
       "        498       499       500         501       502       503  label  \n",
       "0  1.561007  2.145334  1.286712    6.197624  0.272434  0.917669      0  \n",
       "1  5.419373  1.753770  2.752352   12.246400  8.266206  0.920694      0  \n",
       "2  1.155039  0.029721  1.450493    0.545698  8.199032  0.078900      0  \n",
       "3  0.311347  0.118430  1.928447  118.050244  0.869525  0.702323      0  \n",
       "4  3.320260  0.008457  0.002498    0.364157  0.591829  0.008037      0  \n",
       "\n",
       "[5 rows x 505 columns]"
      ]
     },
     "execution_count": 32,
     "metadata": {},
     "output_type": "execute_result"
    }
   ],
   "source": [
    "df_train_g.head()"
   ]
  },
  {
   "cell_type": "code",
   "execution_count": 37,
   "metadata": {},
   "outputs": [],
   "source": [
    "def preprocess_features(x_train):\n",
    "    #Normalization to greyscale, reduces the effect of illumination's differences\n",
    "    x_train = x_train.replace(-np.inf, 0)\n",
    "    x_train = np.log(x_train.values)\n",
    "    x_train_norm = x_train.reshape(reshape)\n",
    "    return x_train_norm"
   ]
  },
  {
   "cell_type": "code",
   "execution_count": 38,
   "metadata": {},
   "outputs": [],
   "source": [
    "def preprocess_targets(y_train):\n",
    "    y_train_hot = tf.keras.utils.to_categorical(y_train, num_classes=7)\n",
    "    return y_train_hot"
   ]
  },
  {
   "cell_type": "code",
   "execution_count": 39,
   "metadata": {},
   "outputs": [
    {
     "data": {
      "text/plain": [
       "6272"
      ]
     },
     "execution_count": 39,
     "metadata": {},
     "output_type": "execute_result"
    }
   ],
   "source": [
    "int(df_train_g.shape[0]*.8)"
   ]
  },
  {
   "cell_type": "code",
   "execution_count": 40,
   "metadata": {},
   "outputs": [],
   "source": [
    "#df_train_rand = preprocess_data(df_train)\n",
    "df_train_g = df_train_g.reindex(np.random.permutation(df_train_g.index))\n",
    "X_train = preprocess_features(df_train_g.drop(labels = ['label'], axis = 1).head(int(df_train_g.shape[0]*.8)).copy())\n",
    "X_test = preprocess_features(df_train_g.drop(labels = ['label'], axis = 1).tail(int(df_train_g.shape[0]*.2)).copy())\n",
    "Y_train = preprocess_targets(df_train_g['label'].head(int(df_train_g.shape[0]*.8)).copy())\n",
    "Y_test = preprocess_targets(df_train_g['label'].tail(int(df_train_g.shape[0]*.2)).copy())"
   ]
  },
  {
   "cell_type": "code",
   "execution_count": 41,
   "metadata": {},
   "outputs": [
    {
     "data": {
      "text/html": [
       "<div>\n",
       "<style scoped>\n",
       "    .dataframe tbody tr th:only-of-type {\n",
       "        vertical-align: middle;\n",
       "    }\n",
       "\n",
       "    .dataframe tbody tr th {\n",
       "        vertical-align: top;\n",
       "    }\n",
       "\n",
       "    .dataframe thead th {\n",
       "        text-align: right;\n",
       "    }\n",
       "</style>\n",
       "<table border=\"1\" class=\"dataframe\">\n",
       "  <thead>\n",
       "    <tr style=\"text-align: right;\">\n",
       "      <th></th>\n",
       "      <th>0</th>\n",
       "      <th>1</th>\n",
       "      <th>2</th>\n",
       "      <th>3</th>\n",
       "      <th>4</th>\n",
       "      <th>5</th>\n",
       "      <th>6</th>\n",
       "      <th>7</th>\n",
       "      <th>8</th>\n",
       "      <th>9</th>\n",
       "      <th>...</th>\n",
       "      <th>495</th>\n",
       "      <th>496</th>\n",
       "      <th>497</th>\n",
       "      <th>498</th>\n",
       "      <th>499</th>\n",
       "      <th>500</th>\n",
       "      <th>501</th>\n",
       "      <th>502</th>\n",
       "      <th>503</th>\n",
       "      <th>label</th>\n",
       "    </tr>\n",
       "  </thead>\n",
       "  <tbody>\n",
       "    <tr>\n",
       "      <th>539</th>\n",
       "      <td>0.057230</td>\n",
       "      <td>0.005452</td>\n",
       "      <td>0.001521</td>\n",
       "      <td>0.485260</td>\n",
       "      <td>1.250760</td>\n",
       "      <td>6.168743</td>\n",
       "      <td>6.129050</td>\n",
       "      <td>1.546179</td>\n",
       "      <td>0.527948</td>\n",
       "      <td>0.598214</td>\n",
       "      <td>...</td>\n",
       "      <td>0.021409</td>\n",
       "      <td>0.032397</td>\n",
       "      <td>0.911666</td>\n",
       "      <td>5.899837</td>\n",
       "      <td>2.286116</td>\n",
       "      <td>0.220980</td>\n",
       "      <td>6.591936</td>\n",
       "      <td>24.775299</td>\n",
       "      <td>6.830713</td>\n",
       "      <td>0</td>\n",
       "    </tr>\n",
       "    <tr>\n",
       "      <th>7493</th>\n",
       "      <td>4.330971</td>\n",
       "      <td>0.341549</td>\n",
       "      <td>0.001275</td>\n",
       "      <td>0.030283</td>\n",
       "      <td>1.630238</td>\n",
       "      <td>0.053847</td>\n",
       "      <td>0.041675</td>\n",
       "      <td>0.037403</td>\n",
       "      <td>0.571093</td>\n",
       "      <td>1.482740</td>\n",
       "      <td>...</td>\n",
       "      <td>0.017513</td>\n",
       "      <td>0.215008</td>\n",
       "      <td>1.519928</td>\n",
       "      <td>0.029591</td>\n",
       "      <td>0.016857</td>\n",
       "      <td>2.887141</td>\n",
       "      <td>0.457261</td>\n",
       "      <td>0.004708</td>\n",
       "      <td>0.008524</td>\n",
       "      <td>6</td>\n",
       "    </tr>\n",
       "    <tr>\n",
       "      <th>4136</th>\n",
       "      <td>24.842679</td>\n",
       "      <td>1.883987</td>\n",
       "      <td>0.006252</td>\n",
       "      <td>0.001512</td>\n",
       "      <td>18.459203</td>\n",
       "      <td>3.506373</td>\n",
       "      <td>0.398243</td>\n",
       "      <td>0.063850</td>\n",
       "      <td>2.884521</td>\n",
       "      <td>0.290693</td>\n",
       "      <td>...</td>\n",
       "      <td>0.157790</td>\n",
       "      <td>1.374931</td>\n",
       "      <td>73.328768</td>\n",
       "      <td>0.469867</td>\n",
       "      <td>0.668638</td>\n",
       "      <td>52.825376</td>\n",
       "      <td>133.300410</td>\n",
       "      <td>0.644778</td>\n",
       "      <td>1.229565</td>\n",
       "      <td>3</td>\n",
       "    </tr>\n",
       "    <tr>\n",
       "      <th>2474</th>\n",
       "      <td>1.062699</td>\n",
       "      <td>4.556972</td>\n",
       "      <td>4.646520</td>\n",
       "      <td>1.992116</td>\n",
       "      <td>1.819312</td>\n",
       "      <td>0.288224</td>\n",
       "      <td>0.714687</td>\n",
       "      <td>0.460312</td>\n",
       "      <td>0.852265</td>\n",
       "      <td>5.589021</td>\n",
       "      <td>...</td>\n",
       "      <td>0.052340</td>\n",
       "      <td>0.177240</td>\n",
       "      <td>0.491709</td>\n",
       "      <td>15.853243</td>\n",
       "      <td>3.957586</td>\n",
       "      <td>3.261627</td>\n",
       "      <td>0.030761</td>\n",
       "      <td>18.742029</td>\n",
       "      <td>10.847451</td>\n",
       "      <td>2</td>\n",
       "    </tr>\n",
       "    <tr>\n",
       "      <th>2958</th>\n",
       "      <td>9.087598</td>\n",
       "      <td>4.152501</td>\n",
       "      <td>1.830647</td>\n",
       "      <td>0.868659</td>\n",
       "      <td>16.290051</td>\n",
       "      <td>88.581310</td>\n",
       "      <td>20.235844</td>\n",
       "      <td>15.294527</td>\n",
       "      <td>6.600453</td>\n",
       "      <td>8.185341</td>\n",
       "      <td>...</td>\n",
       "      <td>7.257913</td>\n",
       "      <td>78.266078</td>\n",
       "      <td>20.124063</td>\n",
       "      <td>12.920450</td>\n",
       "      <td>8.375845</td>\n",
       "      <td>62.215709</td>\n",
       "      <td>0.090035</td>\n",
       "      <td>1.080485</td>\n",
       "      <td>0.270089</td>\n",
       "      <td>2</td>\n",
       "    </tr>\n",
       "  </tbody>\n",
       "</table>\n",
       "<p>5 rows × 505 columns</p>\n",
       "</div>"
      ],
      "text/plain": [
       "              0         1         2         3          4          5  \\\n",
       "539    0.057230  0.005452  0.001521  0.485260   1.250760   6.168743   \n",
       "7493   4.330971  0.341549  0.001275  0.030283   1.630238   0.053847   \n",
       "4136  24.842679  1.883987  0.006252  0.001512  18.459203   3.506373   \n",
       "2474   1.062699  4.556972  4.646520  1.992116   1.819312   0.288224   \n",
       "2958   9.087598  4.152501  1.830647  0.868659  16.290051  88.581310   \n",
       "\n",
       "              6          7         8         9  ...       495        496  \\\n",
       "539    6.129050   1.546179  0.527948  0.598214  ...  0.021409   0.032397   \n",
       "7493   0.041675   0.037403  0.571093  1.482740  ...  0.017513   0.215008   \n",
       "4136   0.398243   0.063850  2.884521  0.290693  ...  0.157790   1.374931   \n",
       "2474   0.714687   0.460312  0.852265  5.589021  ...  0.052340   0.177240   \n",
       "2958  20.235844  15.294527  6.600453  8.185341  ...  7.257913  78.266078   \n",
       "\n",
       "            497        498       499        500         501        502  \\\n",
       "539    0.911666   5.899837  2.286116   0.220980    6.591936  24.775299   \n",
       "7493   1.519928   0.029591  0.016857   2.887141    0.457261   0.004708   \n",
       "4136  73.328768   0.469867  0.668638  52.825376  133.300410   0.644778   \n",
       "2474   0.491709  15.853243  3.957586   3.261627    0.030761  18.742029   \n",
       "2958  20.124063  12.920450  8.375845  62.215709    0.090035   1.080485   \n",
       "\n",
       "            503  label  \n",
       "539    6.830713      0  \n",
       "7493   0.008524      6  \n",
       "4136   1.229565      3  \n",
       "2474  10.847451      2  \n",
       "2958   0.270089      2  \n",
       "\n",
       "[5 rows x 505 columns]"
      ]
     },
     "execution_count": 41,
     "metadata": {},
     "output_type": "execute_result"
    }
   ],
   "source": [
    "df_train_g.head()"
   ]
  },
  {
   "cell_type": "code",
   "execution_count": 42,
   "metadata": {},
   "outputs": [
    {
     "data": {
      "text/plain": [
       "(6272, 6, 21, 4)"
      ]
     },
     "execution_count": 42,
     "metadata": {},
     "output_type": "execute_result"
    }
   ],
   "source": [
    "X_train.shape"
   ]
  },
  {
   "cell_type": "code",
   "execution_count": 78,
   "metadata": {},
   "outputs": [],
   "source": [
    "def create_model(input_shape):\n",
    "    inputlayer = Input(shape=input_shape)\n",
    "    nclass = 7\n",
    "    \n",
    "    norm_input = BatchNormalization()(inputlayer)\n",
    "    model = Conv2D(32, kernel_size=2, padding='same', activation='relu')(norm_input)\n",
    "    model = Conv2D(32, kernel_size=2, padding='same', activation='relu')(model)\n",
    "    model = MaxPooling2D(pool_size=(2, 2))(model)\n",
    "    model = Dropout(rate=0.2)(model)\n",
    "    model = Conv2D(64, kernel_size=3, padding='same', activation='relu')(model)\n",
    "    model = Conv2D(64, kernel_size=3, padding='same', activation='relu')(model)\n",
    "    model = MaxPooling2D(pool_size=(2, 2))(model)\n",
    "    model = Dropout(rate=0.2)(model)\n",
    "    model = Conv2D(128, kernel_size=3, padding='same', activation='relu')(model)\n",
    "    model = Conv2D(128, kernel_size=3, padding='same', activation='relu')(model)\n",
    "    model = MaxPooling2D(pool_size=(1, 1))(model)\n",
    "    model = Dropout(rate=0.2)(model)\n",
    "    model = Conv2D(256, kernel_size=2, padding='same', activation='relu')(model)\n",
    "    model = Conv2D(256, kernel_size=2, padding='same', activation='relu')(model)\n",
    "    model = MaxPooling2D(pool_size=(1, 1))(model)\n",
    "    model = Dropout(rate=0.2)(model)\n",
    "    model = Conv2D(512, kernel_size=2, padding='same', activation='relu')(model)\n",
    "    model = Conv2D(512, kernel_size=2, padding='same', activation='relu')(model)\n",
    "    model = MaxPooling2D(pool_size=(1, 1))(model)\n",
    "    model = Flatten()(model) \n",
    "\n",
    "    dense_1 = BatchNormalization()(Dense(128, activation='relu')(model))\n",
    "    dense_1 = BatchNormalization()(Dense(128, activation='relu')(dense_1))\n",
    "    dense_1 = Dense(nclass, activation='softmax')(dense_1)\n",
    "\n",
    "    model = Model(inputs=inputlayer, outputs=dense_1)\n",
    "    \n",
    "    return model"
   ]
  },
  {
   "cell_type": "code",
   "execution_count": 79,
   "metadata": {},
   "outputs": [],
   "source": [
    "model3 = create_model(shape)"
   ]
  },
  {
   "cell_type": "code",
   "execution_count": 80,
   "metadata": {},
   "outputs": [
    {
     "name": "stdout",
     "output_type": "stream",
     "text": [
      "Model: \"model_5\"\n",
      "_________________________________________________________________\n",
      "Layer (type)                 Output Shape              Param #   \n",
      "=================================================================\n",
      "input_7 (InputLayer)         [(None, 6, 21, 4)]        0         \n",
      "_________________________________________________________________\n",
      "batch_normalization_v2_16 (B (None, 6, 21, 4)          16        \n",
      "_________________________________________________________________\n",
      "conv2d_52 (Conv2D)           (None, 6, 21, 32)         544       \n",
      "_________________________________________________________________\n",
      "conv2d_53 (Conv2D)           (None, 6, 21, 32)         4128      \n",
      "_________________________________________________________________\n",
      "max_pooling2d_26 (MaxPooling (None, 3, 10, 32)         0         \n",
      "_________________________________________________________________\n",
      "dropout_21 (Dropout)         (None, 3, 10, 32)         0         \n",
      "_________________________________________________________________\n",
      "conv2d_54 (Conv2D)           (None, 3, 10, 64)         18496     \n",
      "_________________________________________________________________\n",
      "conv2d_55 (Conv2D)           (None, 3, 10, 64)         36928     \n",
      "_________________________________________________________________\n",
      "max_pooling2d_27 (MaxPooling (None, 1, 5, 64)          0         \n",
      "_________________________________________________________________\n",
      "dropout_22 (Dropout)         (None, 1, 5, 64)          0         \n",
      "_________________________________________________________________\n",
      "conv2d_56 (Conv2D)           (None, 1, 5, 128)         73856     \n",
      "_________________________________________________________________\n",
      "conv2d_57 (Conv2D)           (None, 1, 5, 128)         147584    \n",
      "_________________________________________________________________\n",
      "max_pooling2d_28 (MaxPooling (None, 1, 5, 128)         0         \n",
      "_________________________________________________________________\n",
      "dropout_23 (Dropout)         (None, 1, 5, 128)         0         \n",
      "_________________________________________________________________\n",
      "conv2d_58 (Conv2D)           (None, 1, 5, 256)         131328    \n",
      "_________________________________________________________________\n",
      "conv2d_59 (Conv2D)           (None, 1, 5, 256)         262400    \n",
      "_________________________________________________________________\n",
      "max_pooling2d_29 (MaxPooling (None, 1, 5, 256)         0         \n",
      "_________________________________________________________________\n",
      "dropout_24 (Dropout)         (None, 1, 5, 256)         0         \n",
      "_________________________________________________________________\n",
      "conv2d_60 (Conv2D)           (None, 1, 5, 512)         524800    \n",
      "_________________________________________________________________\n",
      "conv2d_61 (Conv2D)           (None, 1, 5, 512)         1049088   \n",
      "_________________________________________________________________\n",
      "max_pooling2d_30 (MaxPooling (None, 1, 5, 512)         0         \n",
      "_________________________________________________________________\n",
      "flatten_5 (Flatten)          (None, 2560)              0         \n",
      "_________________________________________________________________\n",
      "dense_15 (Dense)             (None, 128)               327808    \n",
      "_________________________________________________________________\n",
      "batch_normalization_v2_17 (B (None, 128)               512       \n",
      "_________________________________________________________________\n",
      "dense_16 (Dense)             (None, 128)               16512     \n",
      "_________________________________________________________________\n",
      "batch_normalization_v2_18 (B (None, 128)               512       \n",
      "_________________________________________________________________\n",
      "dense_17 (Dense)             (None, 7)                 903       \n",
      "=================================================================\n",
      "Total params: 2,595,415\n",
      "Trainable params: 2,594,895\n",
      "Non-trainable params: 520\n",
      "_________________________________________________________________\n",
      "None\n"
     ]
    }
   ],
   "source": [
    "print(model3.summary())"
   ]
  },
  {
   "cell_type": "code",
   "execution_count": 81,
   "metadata": {},
   "outputs": [],
   "source": [
    "optimizer = tf.keras.optimizers.Adam(lr = 0.0001,\n",
    "                                   beta_1 = 0.9,\n",
    "                                   beta_2 = 0.999,\n",
    "                                   epsilon = 1e-08)"
   ]
  },
  {
   "cell_type": "code",
   "execution_count": 87,
   "metadata": {},
   "outputs": [],
   "source": [
    "model3.compile(optimizer=optimizer, loss='categorical_crossentropy', metrics=['accuracy'])"
   ]
  },
  {
   "cell_type": "code",
   "execution_count": 88,
   "metadata": {},
   "outputs": [],
   "source": [
    "#model3.compile(optimizer = optimizer, loss = 'category_crossentropy', metrics = ['accuracy'])"
   ]
  },
  {
   "cell_type": "code",
   "execution_count": 89,
   "metadata": {},
   "outputs": [],
   "source": [
    "tensorboard = TensorBoard(log_dir='./logs/{}'.format(time()))"
   ]
  },
  {
   "cell_type": "code",
   "execution_count": 90,
   "metadata": {},
   "outputs": [
    {
     "data": {
      "text/plain": [
       "(6272, 7)"
      ]
     },
     "execution_count": 90,
     "metadata": {},
     "output_type": "execute_result"
    }
   ],
   "source": [
    "Y_train.shape"
   ]
  },
  {
   "cell_type": "code",
   "execution_count": null,
   "metadata": {},
   "outputs": [
    {
     "name": "stdout",
     "output_type": "stream",
     "text": [
      "Train on 5644 samples, validate on 628 samples\n",
      "Epoch 1/80\n",
      "5644/5644 [==============================] - 20s 4ms/sample - loss: 0.1729 - accuracy: 0.9350 - val_loss: 0.2319 - val_accuracy: 0.9140\n",
      "Epoch 2/80\n",
      "5644/5644 [==============================] - 19s 3ms/sample - loss: 0.1481 - accuracy: 0.9472 - val_loss: 0.2422 - val_accuracy: 0.9220\n",
      "Epoch 3/80\n",
      "5644/5644 [==============================] - 20s 4ms/sample - loss: 0.1504 - accuracy: 0.9484 - val_loss: 0.2746 - val_accuracy: 0.9140\n",
      "Epoch 4/80\n",
      "5644/5644 [==============================] - 21s 4ms/sample - loss: 0.1513 - accuracy: 0.9445 - val_loss: 0.2508 - val_accuracy: 0.9220\n",
      "Epoch 5/80\n",
      "5644/5644 [==============================] - 20s 4ms/sample - loss: 0.1443 - accuracy: 0.9481 - val_loss: 0.2489 - val_accuracy: 0.9220\n",
      "Epoch 6/80\n",
      "5644/5644 [==============================] - 26s 5ms/sample - loss: 0.1440 - accuracy: 0.9486 - val_loss: 0.2626 - val_accuracy: 0.9140\n",
      "Epoch 7/80\n",
      "5644/5644 [==============================] - 20s 3ms/sample - loss: 0.1406 - accuracy: 0.9495 - val_loss: 0.2797 - val_accuracy: 0.9140\n",
      "Epoch 8/80\n",
      "5644/5644 [==============================] - 21s 4ms/sample - loss: 0.1338 - accuracy: 0.9522 - val_loss: 0.2492 - val_accuracy: 0.9268\n",
      "Epoch 9/80\n",
      "5644/5644 [==============================] - 19s 3ms/sample - loss: 0.1435 - accuracy: 0.9486 - val_loss: 0.2596 - val_accuracy: 0.9236\n",
      "Epoch 10/80\n",
      "5644/5644 [==============================] - 20s 4ms/sample - loss: 0.1360 - accuracy: 0.9520 - val_loss: 0.2562 - val_accuracy: 0.9124\n",
      "Epoch 11/80\n",
      "5644/5644 [==============================] - 19s 3ms/sample - loss: 0.1357 - accuracy: 0.9507 - val_loss: 0.2535 - val_accuracy: 0.9268\n",
      "Epoch 12/80\n",
      "5644/5644 [==============================] - 19s 3ms/sample - loss: 0.1404 - accuracy: 0.9476 - val_loss: 0.2495 - val_accuracy: 0.9172\n",
      "Epoch 13/80\n",
      "5644/5644 [==============================] - 20s 4ms/sample - loss: 0.1496 - accuracy: 0.9449 - val_loss: 0.2442 - val_accuracy: 0.9236\n",
      "Epoch 14/80\n",
      "5644/5644 [==============================] - 18s 3ms/sample - loss: 0.1400 - accuracy: 0.9484 - val_loss: 0.2839 - val_accuracy: 0.9013\n",
      "Epoch 15/80\n",
      "5644/5644 [==============================] - 19s 3ms/sample - loss: 0.1327 - accuracy: 0.9538 - val_loss: 0.2595 - val_accuracy: 0.9268\n",
      "Epoch 16/80\n",
      "5644/5644 [==============================] - 20s 3ms/sample - loss: 0.1340 - accuracy: 0.9502 - val_loss: 0.2282 - val_accuracy: 0.9188\n",
      "Epoch 17/80\n",
      "5644/5644 [==============================] - 19s 3ms/sample - loss: 0.1235 - accuracy: 0.9552 - val_loss: 0.2709 - val_accuracy: 0.9172\n",
      "Epoch 18/80\n",
      "5644/5644 [==============================] - 21s 4ms/sample - loss: 0.1259 - accuracy: 0.9538 - val_loss: 0.2581 - val_accuracy: 0.9283\n",
      "Epoch 19/80\n",
      "5644/5644 [==============================] - 19s 3ms/sample - loss: 0.1306 - accuracy: 0.9548 - val_loss: 0.2821 - val_accuracy: 0.9204\n",
      "Epoch 20/80\n",
      "5644/5644 [==============================] - 22s 4ms/sample - loss: 0.1379 - accuracy: 0.9500 - val_loss: 0.2781 - val_accuracy: 0.9188\n",
      "Epoch 21/80\n",
      "5644/5644 [==============================] - 19s 3ms/sample - loss: 0.1227 - accuracy: 0.9562 - val_loss: 0.2718 - val_accuracy: 0.9236\n",
      "Epoch 22/80\n",
      "5644/5644 [==============================] - 18s 3ms/sample - loss: 0.1230 - accuracy: 0.9543 - val_loss: 0.2319 - val_accuracy: 0.9140\n",
      "Epoch 23/80\n",
      "5644/5644 [==============================] - 18s 3ms/sample - loss: 0.1258 - accuracy: 0.9516 - val_loss: 0.3123 - val_accuracy: 0.9076\n",
      "Epoch 24/80\n",
      "5644/5644 [==============================] - 18s 3ms/sample - loss: 0.1243 - accuracy: 0.9554 - val_loss: 0.2649 - val_accuracy: 0.9252\n",
      "Epoch 25/80\n",
      "5644/5644 [==============================] - 19s 3ms/sample - loss: 0.1128 - accuracy: 0.9592 - val_loss: 0.2904 - val_accuracy: 0.9156\n",
      "Epoch 26/80\n",
      "5644/5644 [==============================] - 19s 3ms/sample - loss: 0.1302 - accuracy: 0.9520 - val_loss: 0.2690 - val_accuracy: 0.9140\n",
      "Epoch 27/80\n",
      "5100/5644 [==========================>...] - ETA: 1s - loss: 0.1168 - accuracy: 0.9578"
     ]
    }
   ],
   "source": [
    "history = model3.fit(X_train,\n",
    "                   Y_train,\n",
    "                   batch_size=50,\n",
    "                   epochs=80,\n",
    "                   validation_split=0.1,\n",
    "                   #validation_data=(X_val, Y_val),\n",
    "                   callbacks=[tensorboard])"
   ]
  },
  {
   "cell_type": "code",
   "execution_count": 91,
   "metadata": {},
   "outputs": [],
   "source": [
    "preds = model3.predict(X_test)"
   ]
  },
  {
   "cell_type": "code",
   "execution_count": 92,
   "metadata": {},
   "outputs": [
    {
     "data": {
      "text/plain": [
       "array([1.5306866e-03, 5.6170285e-07, 9.9102271e-01, 3.6984850e-06,\n",
       "       1.1571619e-04, 7.2272187e-03, 9.9570527e-05], dtype=float32)"
      ]
     },
     "execution_count": 92,
     "metadata": {},
     "output_type": "execute_result"
    }
   ],
   "source": [
    "preds[0]"
   ]
  },
  {
   "cell_type": "markdown",
   "metadata": {},
   "source": [
    "Evaluate accuracy on never before seen data"
   ]
  },
  {
   "cell_type": "code",
   "execution_count": 93,
   "metadata": {},
   "outputs": [
    {
     "name": "stdout",
     "output_type": "stream",
     "text": [
      "1568/1568 [==============================] - 0s 183us/sample - loss: 0.3155 - acc: 0.8903\n"
     ]
    }
   ],
   "source": [
    "evaluate = model3.evaluate(X_test, Y_test)"
   ]
  },
  {
   "cell_type": "markdown",
   "metadata": {},
   "source": [
    "Save model"
   ]
  },
  {
   "cell_type": "code",
   "execution_count": 94,
   "metadata": {},
   "outputs": [],
   "source": [
    "model3.save('models/model_2.h5')"
   ]
  }
 ],
 "metadata": {
  "kernelspec": {
   "display_name": "Python 3",
   "language": "python",
   "name": "python3"
  },
  "language_info": {
   "codemirror_mode": {
    "name": "ipython",
    "version": 3
   },
   "file_extension": ".py",
   "mimetype": "text/x-python",
   "name": "python",
   "nbconvert_exporter": "python",
   "pygments_lexer": "ipython3",
   "version": "3.7.2"
  }
 },
 "nbformat": 4,
 "nbformat_minor": 2
}
