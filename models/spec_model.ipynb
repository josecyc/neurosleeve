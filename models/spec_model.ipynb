{
 "cells": [
  {
   "cell_type": "code",
   "execution_count": 8,
   "metadata": {},
   "outputs": [],
   "source": [
    "import pandas as pd\n",
    "import os\n",
    "from scipy import signal\n",
    "\n",
    "import matplotlib.pyplot as plt\n",
    "import numpy as np\n",
    "import skimage.io\n",
    "import tensorflow as tf\n",
    "from tensorflow.keras.layers import Input, Dense, Flatten, Dropout, Conv2D, BatchNormalization, MaxPooling2D # tf2.0 MaxPool2D\n",
    "from tensorflow.keras.models import Model\n",
    "from tensorflow.python.keras.callbacks import TensorBoard\n",
    "from time import time\n",
    "import random"
   ]
  },
  {
   "cell_type": "raw",
   "metadata": {},
   "source": [
    "num_samples = 10 seconds * 4 samples/per_second * num_of_txt files\n",
    "num_samples = aprox(1100)"
   ]
  },
  {
   "cell_type": "markdown",
   "metadata": {},
   "source": [
    "## Reading files and re-exploring new-shaped spectrograms "
   ]
  },
  {
   "cell_type": "code",
   "execution_count": 26,
   "metadata": {},
   "outputs": [],
   "source": [
    "labels_dirs_path = '../data/osc_data/'\n",
    "labels_dirs = next(os.walk(labels_dirs_path))[1]\n",
    "label_dir = labels_dirs[0]\n",
    "label_dir_path = '../data/osc_data/' + label_dir\n",
    "label_files = next(os.walk(label_dir_path))[2]\n",
    "label_file = label_files[0]\n",
    "lbl_file_df = pd.read_csv(label_dir_path + '/' + label_file, sep=',')"
   ]
  },
  {
   "cell_type": "code",
   "execution_count": 27,
   "metadata": {},
   "outputs": [
    {
     "data": {
      "text/html": [
       "<div>\n",
       "<style scoped>\n",
       "    .dataframe tbody tr th:only-of-type {\n",
       "        vertical-align: middle;\n",
       "    }\n",
       "\n",
       "    .dataframe tbody tr th {\n",
       "        vertical-align: top;\n",
       "    }\n",
       "\n",
       "    .dataframe thead th {\n",
       "        text-align: right;\n",
       "    }\n",
       "</style>\n",
       "<table border=\"1\" class=\"dataframe\">\n",
       "  <thead>\n",
       "    <tr style=\"text-align: right;\">\n",
       "      <th></th>\n",
       "      <th>ch1</th>\n",
       "      <th>ch2</th>\n",
       "      <th>ch3</th>\n",
       "      <th>ch4</th>\n",
       "    </tr>\n",
       "  </thead>\n",
       "  <tbody>\n",
       "    <tr>\n",
       "      <th>0</th>\n",
       "      <td>-33.99</td>\n",
       "      <td>-541.97</td>\n",
       "      <td>-71.61</td>\n",
       "      <td>60.61</td>\n",
       "    </tr>\n",
       "    <tr>\n",
       "      <th>1</th>\n",
       "      <td>-22.28</td>\n",
       "      <td>-473.96</td>\n",
       "      <td>-125.56</td>\n",
       "      <td>28.82</td>\n",
       "    </tr>\n",
       "    <tr>\n",
       "      <th>2</th>\n",
       "      <td>5.73</td>\n",
       "      <td>-338.79</td>\n",
       "      <td>-130.38</td>\n",
       "      <td>-5.43</td>\n",
       "    </tr>\n",
       "    <tr>\n",
       "      <th>3</th>\n",
       "      <td>-25.76</td>\n",
       "      <td>-507.57</td>\n",
       "      <td>-119.21</td>\n",
       "      <td>20.62</td>\n",
       "    </tr>\n",
       "    <tr>\n",
       "      <th>4</th>\n",
       "      <td>7.00</td>\n",
       "      <td>-432.08</td>\n",
       "      <td>-115.92</td>\n",
       "      <td>14.51</td>\n",
       "    </tr>\n",
       "  </tbody>\n",
       "</table>\n",
       "</div>"
      ],
      "text/plain": [
       "     ch1     ch2     ch3    ch4\n",
       "0 -33.99 -541.97  -71.61  60.61\n",
       "1 -22.28 -473.96 -125.56  28.82\n",
       "2   5.73 -338.79 -130.38  -5.43\n",
       "3 -25.76 -507.57 -119.21  20.62\n",
       "4   7.00 -432.08 -115.92  14.51"
      ]
     },
     "execution_count": 27,
     "metadata": {},
     "output_type": "execute_result"
    }
   ],
   "source": [
    "lbl_file_df.head()"
   ]
  },
  {
   "cell_type": "markdown",
   "metadata": {},
   "source": [
    "## Alpha label"
   ]
  },
  {
   "cell_type": "code",
   "execution_count": 34,
   "metadata": {},
   "outputs": [
    {
     "name": "stdout",
     "output_type": "stream",
     "text": [
      "label: right\n",
      "file: jose_1_right_8_14.csv\n",
      "spec_shape: (6, 21)\n",
      "frequencies_shape: (6,)\n",
      "times_shape: (21,)\n"
     ]
    },
    {
     "data": {
      "image/png": "[encoded data removed]",
      "text/plain": [
       "<Figure size 1008x576 with 1 Axes>"
      ]
     },
     "metadata": {
      "needs_background": "light"
     },
     "output_type": "display_data"
    },
    {
     "data": {
      "image/png": "[encoded data removed]",
      "text/plain": [
       "<Figure size 1008x576 with 1 Axes>"
      ]
     },
     "metadata": {
      "needs_background": "light"
     },
     "output_type": "display_data"
    },
    {
     "data": {
      "image/png": "[encoded data removed]",
      "text/plain": [
       "<Figure size 1008x576 with 1 Axes>"
      ]
     },
     "metadata": {
      "needs_background": "light"
     },
     "output_type": "display_data"
    },
    {
     "data": {
      "image/png": "[encoded data removed]",
      "text/plain": [
       "<Figure size 1008x576 with 1 Axes>"
      ]
     },
     "metadata": {
      "needs_background": "light"
     },
     "output_type": "display_data"
    }
   ],
   "source": [
    "lbl_dir = labels_dirs[0]\n",
    "label_dir_path = '../data/osc_data/' + label_dir\n",
    "label_files = next(os.walk(label_dir_path))[2]\n",
    "file = random.choice(label_files)\n",
    "file_on = pd.read_csv(label_dir_path + '/' + file, sep=',')\n",
    "\n",
    "#Spectrogram hyperparameters\n",
    "nperseg=10 #increasing nperseg increases frequency resolution and decreases time res\n",
    "noverlap=8 #increasing time resolution requires increasing overlap\n",
    "window = 'hann' #hann provides good time and frequency resolution properties\n",
    "\n",
    "#Spectrogram\n",
    "frequencies, times, spec = signal.spectrogram(x=file_on['ch1'],\n",
    "                                              fs=200, nperseg=nperseg,\n",
    "                                              noverlap=noverlap, window=window)\n",
    "\n",
    "#Subplot 1\n",
    "fig = plt.figure(figsize=(14, 8))\n",
    "ax1 = fig.add_subplot(211)\n",
    "ax1 = plt.pcolormesh(times, frequencies, spec)\n",
    "ax1 = plt.show\n",
    "\n",
    "#Subplot 2\n",
    "frequencies, times, spec = signal.spectrogram(x=file_on['ch2'], fs=200, nperseg=nperseg, noverlap=noverlap, window=window)\n",
    "log_spec = np.log(spec)\n",
    "fig = plt.figure(figsize=(14, 8))\n",
    "ax1 = fig.add_subplot(211)\n",
    "ax1 = plt.pcolormesh(times, frequencies, spec)\n",
    "ax1 = plt.show\n",
    "\n",
    "#Subplot 3\n",
    "frequencies, times, spec = signal.spectrogram(x=file_on['ch3'], fs=200, nperseg=nperseg, noverlap=noverlap, window=window)\n",
    "log_spec = np.log(spec)\n",
    "fig = plt.figure(figsize=(14, 8))\n",
    "ax1 = fig.add_subplot(211)\n",
    "ax1 = plt.pcolormesh(times, frequencies, spec)\n",
    "ax1 = plt.show\n",
    "\n",
    "#Subplot 4\n",
    "frequencies, times, spec = signal.spectrogram(x=file_on['ch4'], fs=200, nperseg=nperseg, noverlap=noverlap, window=window)\n",
    "log_spec = np.log(spec)\n",
    "fig = plt.figure(figsize=(14, 8))\n",
    "ax1 = fig.add_subplot(211)\n",
    "ax1 = plt.pcolormesh(times, frequencies, spec)\n",
    "ax1 = plt.show\n",
    "\n",
    "#Specs and Shapes\n",
    "print('label:', label_dir)\n",
    "print('file:', file)\n",
    "print('spec_shape:', spec.shape)\n",
    "print('frequencies_shape:', frequencies.shape)\n",
    "print('times_shape:', times.shape)"
   ]
  },
  {
   "cell_type": "markdown",
   "metadata": {},
   "source": [
    "## Random label"
   ]
  },
  {
   "cell_type": "code",
   "execution_count": 32,
   "metadata": {},
   "outputs": [
    {
     "name": "stdout",
     "output_type": "stream",
     "text": [
      "label: right\n",
      "file: jose_2_right_1_23.csv\n",
      "spec_shape: (6, 21)\n",
      "frequencies_shape: (6,)\n",
      "times_shape: (21,)\n"
     ]
    },
    {
     "data": {
      "image/png": "[encoded data removed]",
      "text/plain": [
       "<Figure size 1008x576 with 1 Axes>"
      ]
     },
     "metadata": {
      "needs_background": "light"
     },
     "output_type": "display_data"
    },
    {
     "data": {
      "image/png": "[encoded data removed]",
      "text/plain": [
       "<Figure size 1008x576 with 1 Axes>"
      ]
     },
     "metadata": {
      "needs_background": "light"
     },
     "output_type": "display_data"
    },
    {
     "data": {
      "image/png": "[encoded data removed]",
      "text/plain": [
       "<Figure size 1008x576 with 1 Axes>"
      ]
     },
     "metadata": {
      "needs_background": "light"
     },
     "output_type": "display_data"
    },
    {
     "data": {
      "image/png": "[encoded data removed]",
      "text/plain": [
       "<Figure size 1008x576 with 1 Axes>"
      ]
     },
     "metadata": {
      "needs_background": "light"
     },
     "output_type": "display_data"
    }
   ],
   "source": [
    "#Label and file selection\n",
    "label_dir = random.choice(labels_dirs)\n",
    "label_dir_path = '../data/osc_data/' + label_dir\n",
    "label_files = next(os.walk(label_dir_path))[2]\n",
    "file = random.choice(label_files)\n",
    "file_on = pd.read_csv(label_dir_path + '/' + file, sep=',')\n",
    "\n",
    "#Spectrogram hyperparameters\n",
    "nperseg=10 #increasing nperseg increases frequency resolution and decreases time res\n",
    "noverlap=8 #increasing time resolution requires increasing overlap\n",
    "window = 'hann' #hann provides good time and frequency resolution properties\n",
    "\n",
    "#Spectrogram\n",
    "frequencies, times, spec = signal.spectrogram(x=file_on['ch1'],\n",
    "                                              fs=200, nperseg=nperseg,\n",
    "                                              noverlap=noverlap, window=window)\n",
    "\n",
    "#Subplot 1\n",
    "fig = plt.figure(figsize=(14, 8))\n",
    "ax1 = fig.add_subplot(211)\n",
    "ax1 = plt.pcolormesh(times, frequencies, spec)\n",
    "ax1 = plt.show\n",
    "\n",
    "#Subplot 2\n",
    "frequencies, times, spec = signal.spectrogram(x=file_on['ch2'], fs=200, nperseg=nperseg, noverlap=noverlap, window=window)\n",
    "log_spec = np.log(spec)\n",
    "fig = plt.figure(figsize=(14, 8))\n",
    "ax1 = fig.add_subplot(211)\n",
    "ax1 = plt.pcolormesh(times, frequencies, spec)\n",
    "ax1 = plt.show\n",
    "\n",
    "#Subplot 3\n",
    "frequencies, times, spec = signal.spectrogram(x=file_on['ch3'], fs=200, nperseg=nperseg, noverlap=noverlap, window=window)\n",
    "log_spec = np.log(spec)\n",
    "fig = plt.figure(figsize=(14, 8))\n",
    "ax1 = fig.add_subplot(211)\n",
    "ax1 = plt.pcolormesh(times, frequencies, spec)\n",
    "ax1 = plt.show\n",
    "\n",
    "#Subplot 4\n",
    "frequencies, times, spec = signal.spectrogram(x=file_on['ch4'], fs=200, nperseg=nperseg, noverlap=noverlap, window=window)\n",
    "log_spec = np.log(spec)\n",
    "fig = plt.figure(figsize=(14, 8))\n",
    "ax1 = fig.add_subplot(211)\n",
    "ax1 = plt.pcolormesh(times, frequencies, spec)\n",
    "ax1 = plt.show\n",
    "\n",
    "#Specs and Shapes\n",
    "print('label:', label_dir)\n",
    "print('file:', file)\n",
    "print('spec_shape:', spec.shape)\n",
    "print('frequencies_shape:', frequencies.shape)\n",
    "print('times_shape:', times.shape)"
   ]
  },
  {
   "cell_type": "markdown",
   "metadata": {},
   "source": [
    "# Model"
   ]
  },
  {
   "cell_type": "markdown",
   "metadata": {},
   "source": [
    "### Globals"
   ]
  },
  {
   "cell_type": "code",
   "execution_count": 36,
   "metadata": {},
   "outputs": [],
   "source": [
    "###\n",
    "labels_dirs_path = '../data/osc_data/'\n",
    "labels_dirs = next(os.walk(labels_dirs_path))[1]\n",
    "channels = ['ch1', 'ch2', 'ch3', 'ch4']\n",
    "\n",
    "###\n",
    "shape = (6, 21, 4)\n",
    "flat_dim = shape[0]*shape[1]*shape[2]\n",
    "nperseg = 10\n",
    "noverlap = 8\n",
    "reshape = (-1, shape[0], shape[1], shape[2])\n",
    "j = 0\n",
    "i = 0\n",
    "dir_num = 0\n",
    "df_train_g = pd.DataFrame()"
   ]
  },
  {
   "cell_type": "markdown",
   "metadata": {},
   "source": [
    "## Read data to create dataframe with spectograms"
   ]
  },
  {
   "cell_type": "code",
   "execution_count": 38,
   "metadata": {},
   "outputs": [
    {
     "name": "stdout",
     "output_type": "stream",
     "text": [
      "alpha (1160, 6, 21, 4)\n",
      "right (1080, 6, 21, 4)\n",
      "stop (1160, 6, 21, 4)\n",
      "omega (1160, 6, 21, 4)\n",
      "go (1120, 6, 21, 4)\n",
      "left (1120, 6, 21, 4)\n",
      "neutral (1040, 6, 21, 4)\n"
     ]
    }
   ],
   "source": [
    "for lbl_dir in labels_dirs:\n",
    "    filepath = os.path.join(labels_dirs_path, lbl_dir)\n",
    "    files = next(os.walk(filepath))[2]\n",
    "    num_examples = len(files)\n",
    "    x_shape = (num_examples, 6, 21, 4)\n",
    "    x1_train = np.zeros(x_shape)\n",
    "    j = 0\n",
    "    for filename in files:\n",
    "        file = pd.read_csv(os.path.join(labels_dirs_path, lbl_dir, filename), sep=',')\n",
    "        img = np.zeros(shape)\n",
    "        k = 0\n",
    "        for i in range(4):\n",
    "            frequencies, times, spec = signal.spectrogram(x=file[channels[i]], fs=200,\n",
    "                                                          nperseg=nperseg, noverlap=noverlap,\n",
    "                                                          window='hann')\n",
    "            log_spec = np.log(spec)\n",
    "            img[:,:,i] = spec\n",
    "            i = i + 1\n",
    "        x1_train[j,:,:,:] = img\n",
    "        j = j + 1\n",
    "    print(lbl_dir, x1_train.shape)\n",
    "    flat = np.reshape(x1_train, (num_examples, flat_dim))\n",
    "    df_train1 = pd.DataFrame(data=flat)\n",
    "    vals = np.array([dir_num] * num_examples)\n",
    "    dir_num = dir_num + 1\n",
    "    df_train1['label'] = vals\n",
    "    df_train_g = df_train_g.append(df_train1, ignore_index=True)"
   ]
  },
  {
   "cell_type": "code",
   "execution_count": 32,
   "metadata": {},
   "outputs": [
    {
     "data": {
      "text/html": [
       "<div>\n",
       "<style scoped>\n",
       "    .dataframe tbody tr th:only-of-type {\n",
       "        vertical-align: middle;\n",
       "    }\n",
       "\n",
       "    .dataframe tbody tr th {\n",
       "        vertical-align: top;\n",
       "    }\n",
       "\n",
       "    .dataframe thead th {\n",
       "        text-align: right;\n",
       "    }\n",
       "</style>\n",
       "<table border=\"1\" class=\"dataframe\">\n",
       "  <thead>\n",
       "    <tr style=\"text-align: right;\">\n",
       "      <th></th>\n",
       "      <th>0</th>\n",
       "      <th>1</th>\n",
       "      <th>2</th>\n",
       "      <th>3</th>\n",
       "      <th>4</th>\n",
       "      <th>5</th>\n",
       "      <th>6</th>\n",
       "      <th>7</th>\n",
       "      <th>8</th>\n",
       "      <th>9</th>\n",
       "      <th>...</th>\n",
       "      <th>495</th>\n",
       "      <th>496</th>\n",
       "      <th>497</th>\n",
       "      <th>498</th>\n",
       "      <th>499</th>\n",
       "      <th>500</th>\n",
       "      <th>501</th>\n",
       "      <th>502</th>\n",
       "      <th>503</th>\n",
       "      <th>label</th>\n",
       "    </tr>\n",
       "  </thead>\n",
       "  <tbody>\n",
       "    <tr>\n",
       "      <th>0</th>\n",
       "      <td>0.269763</td>\n",
       "      <td>0.000007</td>\n",
       "      <td>2.690894</td>\n",
       "      <td>0.285193</td>\n",
       "      <td>4.696668</td>\n",
       "      <td>26.142539</td>\n",
       "      <td>5.916528</td>\n",
       "      <td>5.797650</td>\n",
       "      <td>1.394728</td>\n",
       "      <td>1.576310</td>\n",
       "      <td>...</td>\n",
       "      <td>3.841037</td>\n",
       "      <td>3.091718</td>\n",
       "      <td>16.319097</td>\n",
       "      <td>1.561007</td>\n",
       "      <td>2.145334</td>\n",
       "      <td>1.286712</td>\n",
       "      <td>6.197624</td>\n",
       "      <td>0.272434</td>\n",
       "      <td>0.917669</td>\n",
       "      <td>0</td>\n",
       "    </tr>\n",
       "    <tr>\n",
       "      <th>1</th>\n",
       "      <td>0.762344</td>\n",
       "      <td>0.009737</td>\n",
       "      <td>0.354214</td>\n",
       "      <td>0.000517</td>\n",
       "      <td>0.203516</td>\n",
       "      <td>0.193552</td>\n",
       "      <td>0.906154</td>\n",
       "      <td>0.016050</td>\n",
       "      <td>1.219763</td>\n",
       "      <td>1.619854</td>\n",
       "      <td>...</td>\n",
       "      <td>0.233409</td>\n",
       "      <td>0.711764</td>\n",
       "      <td>0.001415</td>\n",
       "      <td>5.419373</td>\n",
       "      <td>1.753770</td>\n",
       "      <td>2.752352</td>\n",
       "      <td>12.246400</td>\n",
       "      <td>8.266206</td>\n",
       "      <td>0.920694</td>\n",
       "      <td>0</td>\n",
       "    </tr>\n",
       "    <tr>\n",
       "      <th>2</th>\n",
       "      <td>0.012787</td>\n",
       "      <td>1.610314</td>\n",
       "      <td>0.105238</td>\n",
       "      <td>0.023809</td>\n",
       "      <td>0.747766</td>\n",
       "      <td>0.020359</td>\n",
       "      <td>6.185523</td>\n",
       "      <td>0.869656</td>\n",
       "      <td>0.088764</td>\n",
       "      <td>0.037561</td>\n",
       "      <td>...</td>\n",
       "      <td>0.000238</td>\n",
       "      <td>0.000509</td>\n",
       "      <td>0.956125</td>\n",
       "      <td>1.155039</td>\n",
       "      <td>0.029721</td>\n",
       "      <td>1.450493</td>\n",
       "      <td>0.545698</td>\n",
       "      <td>8.199032</td>\n",
       "      <td>0.078900</td>\n",
       "      <td>0</td>\n",
       "    </tr>\n",
       "    <tr>\n",
       "      <th>3</th>\n",
       "      <td>3.198062</td>\n",
       "      <td>1.395169</td>\n",
       "      <td>3.978304</td>\n",
       "      <td>0.476088</td>\n",
       "      <td>0.032568</td>\n",
       "      <td>0.091444</td>\n",
       "      <td>0.021168</td>\n",
       "      <td>0.076012</td>\n",
       "      <td>0.049189</td>\n",
       "      <td>5.689870</td>\n",
       "      <td>...</td>\n",
       "      <td>0.254437</td>\n",
       "      <td>1.999421</td>\n",
       "      <td>100.944967</td>\n",
       "      <td>0.311347</td>\n",
       "      <td>0.118430</td>\n",
       "      <td>1.928447</td>\n",
       "      <td>118.050244</td>\n",
       "      <td>0.869525</td>\n",
       "      <td>0.702323</td>\n",
       "      <td>0</td>\n",
       "    </tr>\n",
       "    <tr>\n",
       "      <th>4</th>\n",
       "      <td>1.832447</td>\n",
       "      <td>0.254555</td>\n",
       "      <td>0.309685</td>\n",
       "      <td>0.020131</td>\n",
       "      <td>3.494906</td>\n",
       "      <td>7.610915</td>\n",
       "      <td>1.930834</td>\n",
       "      <td>0.832520</td>\n",
       "      <td>0.342319</td>\n",
       "      <td>3.308603</td>\n",
       "      <td>...</td>\n",
       "      <td>0.033883</td>\n",
       "      <td>0.010655</td>\n",
       "      <td>0.000876</td>\n",
       "      <td>3.320260</td>\n",
       "      <td>0.008457</td>\n",
       "      <td>0.002498</td>\n",
       "      <td>0.364157</td>\n",
       "      <td>0.591829</td>\n",
       "      <td>0.008037</td>\n",
       "      <td>0</td>\n",
       "    </tr>\n",
       "  </tbody>\n",
       "</table>\n",
       "<p>5 rows × 505 columns</p>\n",
       "</div>"
      ],
      "text/plain": [
       "          0         1         2         3         4          5         6  \\\n",
       "0  0.269763  0.000007  2.690894  0.285193  4.696668  26.142539  5.916528   \n",
       "1  0.762344  0.009737  0.354214  0.000517  0.203516   0.193552  0.906154   \n",
       "2  0.012787  1.610314  0.105238  0.023809  0.747766   0.020359  6.185523   \n",
       "3  3.198062  1.395169  3.978304  0.476088  0.032568   0.091444  0.021168   \n",
       "4  1.832447  0.254555  0.309685  0.020131  3.494906   7.610915  1.930834   \n",
       "\n",
       "          7         8         9  ...       495       496         497  \\\n",
       "0  5.797650  1.394728  1.576310  ...  3.841037  3.091718   16.319097   \n",
       "1  0.016050  1.219763  1.619854  ...  0.233409  0.711764    0.001415   \n",
       "2  0.869656  0.088764  0.037561  ...  0.000238  0.000509    0.956125   \n",
       "3  0.076012  0.049189  5.689870  ...  0.254437  1.999421  100.944967   \n",
       "4  0.832520  0.342319  3.308603  ...  0.033883  0.010655    0.000876   \n",
       "\n",
       "        498       499       500         501       502       503  label  \n",
       "0  1.561007  2.145334  1.286712    6.197624  0.272434  0.917669      0  \n",
       "1  5.419373  1.753770  2.752352   12.246400  8.266206  0.920694      0  \n",
       "2  1.155039  0.029721  1.450493    0.545698  8.199032  0.078900      0  \n",
       "3  0.311347  0.118430  1.928447  118.050244  0.869525  0.702323      0  \n",
       "4  3.320260  0.008457  0.002498    0.364157  0.591829  0.008037      0  \n",
       "\n",
       "[5 rows x 505 columns]"
      ]
     },
     "execution_count": 32,
     "metadata": {},
     "output_type": "execute_result"
    }
   ],
   "source": [
    "df_train_g.head()"
   ]
  },
  {
   "cell_type": "code",
   "execution_count": 46,
   "metadata": {},
   "outputs": [],
   "source": [
    "def preprocess_features(x_train):\n",
    "    x_train = x_train.replace(-np.inf, 0)\n",
    "    x_train = np.log(x_train.values)\n",
    "    x_train_norm = x_train.reshape(reshape)\n",
    "    return x_train_norm"
   ]
  },
  {
   "cell_type": "code",
   "execution_count": 47,
   "metadata": {},
   "outputs": [],
   "source": [
    "def preprocess_targets(y_train):\n",
    "    y_train_hot = tf.keras.utils.to_categorical(y_train, num_classes=7)\n",
    "    return y_train_hot"
   ]
  },
  {
   "cell_type": "code",
   "execution_count": 48,
   "metadata": {},
   "outputs": [
    {
     "data": {
      "text/plain": [
       "6272"
      ]
     },
     "execution_count": 48,
     "metadata": {},
     "output_type": "execute_result"
    }
   ],
   "source": [
    "int(df_train_g.shape[0]*.8)"
   ]
  },
  {
   "cell_type": "code",
   "execution_count": 49,
   "metadata": {},
   "outputs": [],
   "source": [
    "df_train_g = df_train_g.reindex(np.random.permutation(df_train_g.index))\n",
    "X_train = preprocess_features(df_train_g.drop(labels = ['label'], axis = 1).head(int(df_train_g.shape[0]*.8)).copy())\n",
    "X_test = preprocess_features(df_train_g.drop(labels = ['label'], axis = 1).tail(int(df_train_g.shape[0]*.2)).copy())\n",
    "Y_train = preprocess_targets(df_train_g['label'].head(int(df_train_g.shape[0]*.8)).copy())\n",
    "Y_test = preprocess_targets(df_train_g['label'].tail(int(df_train_g.shape[0]*.2)).copy())"
   ]
  },
  {
   "cell_type": "code",
   "execution_count": 50,
   "metadata": {},
   "outputs": [
    {
     "data": {
      "text/html": [
       "<div>\n",
       "<style scoped>\n",
       "    .dataframe tbody tr th:only-of-type {\n",
       "        vertical-align: middle;\n",
       "    }\n",
       "\n",
       "    .dataframe tbody tr th {\n",
       "        vertical-align: top;\n",
       "    }\n",
       "\n",
       "    .dataframe thead th {\n",
       "        text-align: right;\n",
       "    }\n",
       "</style>\n",
       "<table border=\"1\" class=\"dataframe\">\n",
       "  <thead>\n",
       "    <tr style=\"text-align: right;\">\n",
       "      <th></th>\n",
       "      <th>0</th>\n",
       "      <th>1</th>\n",
       "      <th>2</th>\n",
       "      <th>3</th>\n",
       "      <th>4</th>\n",
       "      <th>5</th>\n",
       "      <th>6</th>\n",
       "      <th>7</th>\n",
       "      <th>8</th>\n",
       "      <th>9</th>\n",
       "      <th>...</th>\n",
       "      <th>495</th>\n",
       "      <th>496</th>\n",
       "      <th>497</th>\n",
       "      <th>498</th>\n",
       "      <th>499</th>\n",
       "      <th>500</th>\n",
       "      <th>501</th>\n",
       "      <th>502</th>\n",
       "      <th>503</th>\n",
       "      <th>label</th>\n",
       "    </tr>\n",
       "  </thead>\n",
       "  <tbody>\n",
       "    <tr>\n",
       "      <th>880</th>\n",
       "      <td>0.000778</td>\n",
       "      <td>13.056984</td>\n",
       "      <td>12.864079</td>\n",
       "      <td>0.045172</td>\n",
       "      <td>0.053630</td>\n",
       "      <td>2.722141</td>\n",
       "      <td>0.229924</td>\n",
       "      <td>0.038204</td>\n",
       "      <td>0.180067</td>\n",
       "      <td>0.197377</td>\n",
       "      <td>...</td>\n",
       "      <td>0.081307</td>\n",
       "      <td>0.105847</td>\n",
       "      <td>42.117750</td>\n",
       "      <td>11.564205</td>\n",
       "      <td>0.002161</td>\n",
       "      <td>0.091776</td>\n",
       "      <td>52.272398</td>\n",
       "      <td>1.009657</td>\n",
       "      <td>0.063984</td>\n",
       "      <td>0</td>\n",
       "    </tr>\n",
       "    <tr>\n",
       "      <th>57</th>\n",
       "      <td>1.680988</td>\n",
       "      <td>15.463871</td>\n",
       "      <td>1.059413</td>\n",
       "      <td>0.187840</td>\n",
       "      <td>0.020906</td>\n",
       "      <td>0.067087</td>\n",
       "      <td>15.271583</td>\n",
       "      <td>0.475838</td>\n",
       "      <td>2.612971</td>\n",
       "      <td>3.556246</td>\n",
       "      <td>...</td>\n",
       "      <td>1.730422</td>\n",
       "      <td>0.670285</td>\n",
       "      <td>38.211534</td>\n",
       "      <td>17.336277</td>\n",
       "      <td>4.829449</td>\n",
       "      <td>0.404895</td>\n",
       "      <td>12.411689</td>\n",
       "      <td>68.423026</td>\n",
       "      <td>7.746044</td>\n",
       "      <td>0</td>\n",
       "    </tr>\n",
       "    <tr>\n",
       "      <th>5098</th>\n",
       "      <td>0.007663</td>\n",
       "      <td>1.384460</td>\n",
       "      <td>13.198671</td>\n",
       "      <td>2.827051</td>\n",
       "      <td>1.300103</td>\n",
       "      <td>1.437081</td>\n",
       "      <td>1.296159</td>\n",
       "      <td>3.337062</td>\n",
       "      <td>0.002369</td>\n",
       "      <td>0.169161</td>\n",
       "      <td>...</td>\n",
       "      <td>2.342641</td>\n",
       "      <td>0.080910</td>\n",
       "      <td>3.612984</td>\n",
       "      <td>0.736218</td>\n",
       "      <td>1.051325</td>\n",
       "      <td>0.025900</td>\n",
       "      <td>16.738387</td>\n",
       "      <td>0.001273</td>\n",
       "      <td>0.093787</td>\n",
       "      <td>4</td>\n",
       "    </tr>\n",
       "    <tr>\n",
       "      <th>3965</th>\n",
       "      <td>0.000326</td>\n",
       "      <td>6.176543</td>\n",
       "      <td>0.082022</td>\n",
       "      <td>0.004246</td>\n",
       "      <td>4.612829</td>\n",
       "      <td>9.343383</td>\n",
       "      <td>0.000782</td>\n",
       "      <td>0.000185</td>\n",
       "      <td>2.775274</td>\n",
       "      <td>0.529789</td>\n",
       "      <td>...</td>\n",
       "      <td>0.818439</td>\n",
       "      <td>309.786684</td>\n",
       "      <td>57.689673</td>\n",
       "      <td>0.165509</td>\n",
       "      <td>0.837427</td>\n",
       "      <td>236.739779</td>\n",
       "      <td>184.943256</td>\n",
       "      <td>0.072622</td>\n",
       "      <td>0.398559</td>\n",
       "      <td>3</td>\n",
       "    </tr>\n",
       "    <tr>\n",
       "      <th>4912</th>\n",
       "      <td>0.218023</td>\n",
       "      <td>3.701561</td>\n",
       "      <td>0.009005</td>\n",
       "      <td>3.094049</td>\n",
       "      <td>0.037662</td>\n",
       "      <td>0.925011</td>\n",
       "      <td>0.030804</td>\n",
       "      <td>0.807759</td>\n",
       "      <td>0.081063</td>\n",
       "      <td>0.829810</td>\n",
       "      <td>...</td>\n",
       "      <td>4.387835</td>\n",
       "      <td>0.588907</td>\n",
       "      <td>0.302893</td>\n",
       "      <td>2.970162</td>\n",
       "      <td>1.009957</td>\n",
       "      <td>0.417789</td>\n",
       "      <td>3.235651</td>\n",
       "      <td>0.608810</td>\n",
       "      <td>0.636877</td>\n",
       "      <td>4</td>\n",
       "    </tr>\n",
       "  </tbody>\n",
       "</table>\n",
       "<p>5 rows × 505 columns</p>\n",
       "</div>"
      ],
      "text/plain": [
       "             0          1          2         3         4         5          6  \\\n",
       "880   0.000778  13.056984  12.864079  0.045172  0.053630  2.722141   0.229924   \n",
       "57    1.680988  15.463871   1.059413  0.187840  0.020906  0.067087  15.271583   \n",
       "5098  0.007663   1.384460  13.198671  2.827051  1.300103  1.437081   1.296159   \n",
       "3965  0.000326   6.176543   0.082022  0.004246  4.612829  9.343383   0.000782   \n",
       "4912  0.218023   3.701561   0.009005  3.094049  0.037662  0.925011   0.030804   \n",
       "\n",
       "             7         8         9  ...       495         496        497  \\\n",
       "880   0.038204  0.180067  0.197377  ...  0.081307    0.105847  42.117750   \n",
       "57    0.475838  2.612971  3.556246  ...  1.730422    0.670285  38.211534   \n",
       "5098  3.337062  0.002369  0.169161  ...  2.342641    0.080910   3.612984   \n",
       "3965  0.000185  2.775274  0.529789  ...  0.818439  309.786684  57.689673   \n",
       "4912  0.807759  0.081063  0.829810  ...  4.387835    0.588907   0.302893   \n",
       "\n",
       "            498       499         500         501        502       503  label  \n",
       "880   11.564205  0.002161    0.091776   52.272398   1.009657  0.063984      0  \n",
       "57    17.336277  4.829449    0.404895   12.411689  68.423026  7.746044      0  \n",
       "5098   0.736218  1.051325    0.025900   16.738387   0.001273  0.093787      4  \n",
       "3965   0.165509  0.837427  236.739779  184.943256   0.072622  0.398559      3  \n",
       "4912   2.970162  1.009957    0.417789    3.235651   0.608810  0.636877      4  \n",
       "\n",
       "[5 rows x 505 columns]"
      ]
     },
     "execution_count": 50,
     "metadata": {},
     "output_type": "execute_result"
    }
   ],
   "source": [
    "df_train_g.head()"
   ]
  },
  {
   "cell_type": "code",
   "execution_count": 51,
   "metadata": {},
   "outputs": [
    {
     "data": {
      "text/plain": [
       "(6272, 6, 21, 4)"
      ]
     },
     "execution_count": 51,
     "metadata": {},
     "output_type": "execute_result"
    }
   ],
   "source": [
    "X_train.shape"
   ]
  },
  {
   "cell_type": "code",
   "execution_count": 52,
   "metadata": {},
   "outputs": [],
   "source": [
    "def create_model(input_shape):\n",
    "    inputlayer = Input(shape=input_shape)\n",
    "    nclass = 7\n",
    "    \n",
    "    norm_input = BatchNormalization()(inputlayer)\n",
    "    model = Conv2D(32, kernel_size=2, padding='same', activation='relu')(norm_input)\n",
    "    model = Conv2D(32, kernel_size=2, padding='same', activation='relu')(model)\n",
    "    model = MaxPooling2D(pool_size=(2, 2))(model)\n",
    "    model = Dropout(rate=0.2)(model)\n",
    "    model = Conv2D(64, kernel_size=3, padding='same', activation='relu')(model)\n",
    "    model = Conv2D(64, kernel_size=3, padding='same', activation='relu')(model)\n",
    "    model = MaxPooling2D(pool_size=(2, 2))(model)\n",
    "    model = Dropout(rate=0.2)(model)\n",
    "    model = Conv2D(128, kernel_size=3, padding='same', activation='relu')(model)\n",
    "    model = Conv2D(128, kernel_size=3, padding='same', activation='relu')(model)\n",
    "    model = MaxPooling2D(pool_size=(1, 1))(model)\n",
    "#    model = Dropout(rate=0.2)(model)\n",
    "#    model = Conv2D(256, kernel_size=2, padding='same', activation='relu')(model)\n",
    "#    model = Conv2D(256, kernel_size=2, padding='same', activation='relu')(model)\n",
    "#    model = MaxPooling2D(pool_size=(1, 1))(model)\n",
    "#    model = Dropout(rate=0.2)(model)\n",
    "#    model = Conv2D(512, kernel_size=2, padding='same', activation='relu')(model)\n",
    "#    model = Conv2D(512, kernel_size=2, padding='same', activation='relu')(model)\n",
    "#    model = MaxPooling2D(pool_size=(1, 1))(model)\n",
    "    model = Flatten()(model) \n",
    "\n",
    "    dense_1 = BatchNormalization()(Dense(128, activation='relu')(model))\n",
    "    dense_1 = BatchNormalization()(Dense(128, activation='relu')(dense_1))\n",
    "    dense_1 = Dense(nclass, activation='softmax')(dense_1)\n",
    "\n",
    "    model = Model(inputs=inputlayer, outputs=dense_1)\n",
    "    \n",
    "    return model"
   ]
  },
  {
   "cell_type": "code",
   "execution_count": 53,
   "metadata": {},
   "outputs": [],
   "source": [
    "model3 = create_model(shape)"
   ]
  },
  {
   "cell_type": "code",
   "execution_count": 54,
   "metadata": {},
   "outputs": [
    {
     "name": "stdout",
     "output_type": "stream",
     "text": [
      "Model: \"model_1\"\n",
      "_________________________________________________________________\n",
      "Layer (type)                 Output Shape              Param #   \n",
      "=================================================================\n",
      "input_2 (InputLayer)         [(None, 6, 21, 4)]        0         \n",
      "_________________________________________________________________\n",
      "batch_normalization_v2_3 (Ba (None, 6, 21, 4)          16        \n",
      "_________________________________________________________________\n",
      "conv2d_6 (Conv2D)            (None, 6, 21, 32)         544       \n",
      "_________________________________________________________________\n",
      "conv2d_7 (Conv2D)            (None, 6, 21, 32)         4128      \n",
      "_________________________________________________________________\n",
      "max_pooling2d_3 (MaxPooling2 (None, 3, 10, 32)         0         \n",
      "_________________________________________________________________\n",
      "dropout_2 (Dropout)          (None, 3, 10, 32)         0         \n",
      "_________________________________________________________________\n",
      "conv2d_8 (Conv2D)            (None, 3, 10, 64)         18496     \n",
      "_________________________________________________________________\n",
      "conv2d_9 (Conv2D)            (None, 3, 10, 64)         36928     \n",
      "_________________________________________________________________\n",
      "max_pooling2d_4 (MaxPooling2 (None, 1, 5, 64)          0         \n",
      "_________________________________________________________________\n",
      "dropout_3 (Dropout)          (None, 1, 5, 64)          0         \n",
      "_________________________________________________________________\n",
      "conv2d_10 (Conv2D)           (None, 1, 5, 128)         73856     \n",
      "_________________________________________________________________\n",
      "conv2d_11 (Conv2D)           (None, 1, 5, 128)         147584    \n",
      "_________________________________________________________________\n",
      "max_pooling2d_5 (MaxPooling2 (None, 1, 5, 128)         0         \n",
      "_________________________________________________________________\n",
      "flatten_1 (Flatten)          (None, 640)               0         \n",
      "_________________________________________________________________\n",
      "dense_3 (Dense)              (None, 128)               82048     \n",
      "_________________________________________________________________\n",
      "batch_normalization_v2_4 (Ba (None, 128)               512       \n",
      "_________________________________________________________________\n",
      "dense_4 (Dense)              (None, 128)               16512     \n",
      "_________________________________________________________________\n",
      "batch_normalization_v2_5 (Ba (None, 128)               512       \n",
      "_________________________________________________________________\n",
      "dense_5 (Dense)              (None, 7)                 903       \n",
      "=================================================================\n",
      "Total params: 382,039\n",
      "Trainable params: 381,519\n",
      "Non-trainable params: 520\n",
      "_________________________________________________________________\n",
      "None\n"
     ]
    }
   ],
   "source": [
    "print(model3.summary())"
   ]
  },
  {
   "cell_type": "code",
   "execution_count": 65,
   "metadata": {},
   "outputs": [],
   "source": [
    "optimizer = tf.keras.optimizers.Adam(lr = 0.0001,\n",
    "                                   beta_1 = 0.9,\n",
    "                                   beta_2 = 0.999,\n",
    "                                   epsilon = 1e-08)"
   ]
  },
  {
   "cell_type": "code",
   "execution_count": 66,
   "metadata": {},
   "outputs": [],
   "source": [
    "model3.compile(optimizer=optimizer, loss='categorical_crossentropy', metrics=['accuracy'])"
   ]
  },
  {
   "cell_type": "code",
   "execution_count": 67,
   "metadata": {},
   "outputs": [],
   "source": [
    "tensorboard = TensorBoard(log_dir='./logs/{}'.format(time()))"
   ]
  },
  {
   "cell_type": "code",
   "execution_count": 68,
   "metadata": {},
   "outputs": [
    {
     "data": {
      "text/plain": [
       "(6272, 7)"
      ]
     },
     "execution_count": 68,
     "metadata": {},
     "output_type": "execute_result"
    }
   ],
   "source": [
    "Y_train.shape"
   ]
  },
  {
   "cell_type": "code",
   "execution_count": 69,
   "metadata": {},
   "outputs": [
    {
     "name": "stdout",
     "output_type": "stream",
     "text": [
      "Train on 5644 samples, validate on 628 samples\n",
      "Epoch 1/30\n",
      "5644/5644 [==============================] - 4s 688us/sample - loss: 0.2402 - accuracy: 0.9057 - val_loss: 0.2747 - val_accuracy: 0.9013\n",
      "Epoch 2/30\n",
      "5644/5644 [==============================] - 3s 493us/sample - loss: 0.2266 - accuracy: 0.9125 - val_loss: 0.2385 - val_accuracy: 0.8981\n",
      "Epoch 3/30\n",
      "5644/5644 [==============================] - 3s 495us/sample - loss: 0.2266 - accuracy: 0.9180 - val_loss: 0.2496 - val_accuracy: 0.8981\n",
      "Epoch 4/30\n",
      "5644/5644 [==============================] - 3s 488us/sample - loss: 0.2217 - accuracy: 0.9167 - val_loss: 0.2351 - val_accuracy: 0.9076\n",
      "Epoch 5/30\n",
      "5644/5644 [==============================] - 3s 491us/sample - loss: 0.2122 - accuracy: 0.9176 - val_loss: 0.2308 - val_accuracy: 0.9076\n",
      "Epoch 6/30\n",
      "5644/5644 [==============================] - 3s 505us/sample - loss: 0.2144 - accuracy: 0.9153 - val_loss: 0.3075 - val_accuracy: 0.8933\n",
      "Epoch 7/30\n",
      "5644/5644 [==============================] - 3s 497us/sample - loss: 0.2086 - accuracy: 0.9233 - val_loss: 0.2358 - val_accuracy: 0.9124\n",
      "Epoch 8/30\n",
      "5644/5644 [==============================] - 3s 498us/sample - loss: 0.2018 - accuracy: 0.9210 - val_loss: 0.2267 - val_accuracy: 0.9061\n",
      "Epoch 9/30\n",
      "5644/5644 [==============================] - 3s 508us/sample - loss: 0.2117 - accuracy: 0.9206 - val_loss: 0.2132 - val_accuracy: 0.9236\n",
      "Epoch 10/30\n",
      "5644/5644 [==============================] - 3s 508us/sample - loss: 0.2011 - accuracy: 0.9222 - val_loss: 0.2163 - val_accuracy: 0.9204\n",
      "Epoch 11/30\n",
      "5644/5644 [==============================] - 3s 509us/sample - loss: 0.1888 - accuracy: 0.9286 - val_loss: 0.2806 - val_accuracy: 0.8965\n",
      "Epoch 12/30\n",
      "5644/5644 [==============================] - 3s 511us/sample - loss: 0.2034 - accuracy: 0.9233 - val_loss: 0.2292 - val_accuracy: 0.9172\n",
      "Epoch 13/30\n",
      "5644/5644 [==============================] - 3s 515us/sample - loss: 0.1857 - accuracy: 0.9297 - val_loss: 0.2399 - val_accuracy: 0.9045\n",
      "Epoch 14/30\n",
      "5644/5644 [==============================] - 3s 508us/sample - loss: 0.1846 - accuracy: 0.9305 - val_loss: 0.2328 - val_accuracy: 0.9124\n",
      "Epoch 15/30\n",
      "5644/5644 [==============================] - 3s 510us/sample - loss: 0.1754 - accuracy: 0.9336 - val_loss: 0.2339 - val_accuracy: 0.9204\n",
      "Epoch 16/30\n",
      "5644/5644 [==============================] - 3s 517us/sample - loss: 0.1878 - accuracy: 0.9266 - val_loss: 0.2398 - val_accuracy: 0.9236\n",
      "Epoch 17/30\n",
      "5644/5644 [==============================] - 3s 507us/sample - loss: 0.1706 - accuracy: 0.9330 - val_loss: 0.2376 - val_accuracy: 0.9013\n",
      "Epoch 18/30\n",
      "5644/5644 [==============================] - 3s 494us/sample - loss: 0.1694 - accuracy: 0.9369 - val_loss: 0.2594 - val_accuracy: 0.9061\n",
      "Epoch 19/30\n",
      "5644/5644 [==============================] - 3s 511us/sample - loss: 0.1782 - accuracy: 0.9282 - val_loss: 0.2494 - val_accuracy: 0.9061\n",
      "Epoch 20/30\n",
      "5644/5644 [==============================] - 3s 511us/sample - loss: 0.1709 - accuracy: 0.9341 - val_loss: 0.2228 - val_accuracy: 0.9252\n",
      "Epoch 21/30\n",
      "5644/5644 [==============================] - 3s 521us/sample - loss: 0.1704 - accuracy: 0.9336 - val_loss: 0.2365 - val_accuracy: 0.9045\n",
      "Epoch 22/30\n",
      "5644/5644 [==============================] - 3s 506us/sample - loss: 0.1659 - accuracy: 0.9375 - val_loss: 0.2752 - val_accuracy: 0.9013\n",
      "Epoch 23/30\n",
      "5644/5644 [==============================] - 3s 512us/sample - loss: 0.1604 - accuracy: 0.9392 - val_loss: 0.2419 - val_accuracy: 0.9092\n",
      "Epoch 24/30\n",
      "5644/5644 [==============================] - 3s 511us/sample - loss: 0.1631 - accuracy: 0.9346 - val_loss: 0.2362 - val_accuracy: 0.9236\n",
      "Epoch 25/30\n",
      "5644/5644 [==============================] - 3s 525us/sample - loss: 0.1544 - accuracy: 0.9398 - val_loss: 0.2496 - val_accuracy: 0.9029\n",
      "Epoch 26/30\n",
      "5644/5644 [==============================] - 3s 515us/sample - loss: 0.1485 - accuracy: 0.9421 - val_loss: 0.2376 - val_accuracy: 0.9188\n",
      "Epoch 27/30\n",
      "5644/5644 [==============================] - 3s 524us/sample - loss: 0.1421 - accuracy: 0.9477 - val_loss: 0.2672 - val_accuracy: 0.8965\n",
      "Epoch 28/30\n",
      "5644/5644 [==============================] - 3s 522us/sample - loss: 0.1474 - accuracy: 0.9433 - val_loss: 0.2412 - val_accuracy: 0.9204\n",
      "Epoch 29/30\n",
      "5644/5644 [==============================] - 3s 504us/sample - loss: 0.1532 - accuracy: 0.9382 - val_loss: 0.2277 - val_accuracy: 0.9252\n",
      "Epoch 30/30\n",
      "5644/5644 [==============================] - 3s 517us/sample - loss: 0.1461 - accuracy: 0.9454 - val_loss: 0.2541 - val_accuracy: 0.9220\n"
     ]
    }
   ],
   "source": [
    "history = model3.fit(X_train,\n",
    "                   Y_train,\n",
    "                   batch_size=50,\n",
    "                   epochs=30,\n",
    "                   validation_split=0.1,\n",
    "                   callbacks=[tensorboard])"
   ]
  },
  {
   "cell_type": "code",
   "execution_count": 70,
   "metadata": {},
   "outputs": [],
   "source": [
    "preds = model3.predict(X_test)"
   ]
  },
  {
   "cell_type": "code",
   "execution_count": 71,
   "metadata": {},
   "outputs": [
    {
     "data": {
      "text/plain": [
       "array([3.5354060e-03, 4.4036643e-03, 1.0686202e-03, 9.3984801e-01,\n",
       "       5.8285572e-04, 5.0046552e-02, 5.1492709e-04], dtype=float32)"
      ]
     },
     "execution_count": 71,
     "metadata": {},
     "output_type": "execute_result"
    }
   ],
   "source": [
    "preds[0]"
   ]
  },
  {
   "cell_type": "markdown",
   "metadata": {},
   "source": [
    "#### Evaluate accuracy on never before seen data"
   ]
  },
  {
   "cell_type": "code",
   "execution_count": 72,
   "metadata": {},
   "outputs": [
    {
     "name": "stdout",
     "output_type": "stream",
     "text": [
      "1568/1568 [==============================] - 0s 139us/sample - loss: 0.2728 - accuracy: 0.9171\n"
     ]
    }
   ],
   "source": [
    "evaluate = model3.evaluate(X_test, Y_test)"
   ]
  },
  {
   "cell_type": "markdown",
   "metadata": {},
   "source": [
    "#### Save model"
   ]
  },
  {
   "cell_type": "code",
   "execution_count": null,
   "metadata": {},
   "outputs": [],
   "source": [
    "model3.save('model_3.h5')"
   ]
  },
  {
   "cell_type": "code",
   "execution_count": null,
   "metadata": {},
   "outputs": [],
   "source": []
  }
 ],
 "metadata": {
  "kernelspec": {
   "display_name": "Python 3",
   "language": "python",
   "name": "python3"
  },
  "language_info": {
   "codemirror_mode": {
    "name": "ipython",
    "version": 3
   },
   "file_extension": ".py",
   "mimetype": "text/x-python",
   "name": "python",
   "nbconvert_exporter": "python",
   "pygments_lexer": "ipython3",
   "version": "3.7.2"
  }
 },
 "nbformat": 4,
 "nbformat_minor": 2
}
